{
  "nbformat": 4,
  "nbformat_minor": 0,
  "metadata": {
    "colab": {
      "provenance": []
    },
    "kernelspec": {
      "name": "python3",
      "display_name": "Python 3"
    },
    "language_info": {
      "name": "python"
    }
  },
  "cells": [
    {
      "cell_type": "code",
      "source": [
        "from google.colab import drive\n",
        "drive.mount('/content/drive')"
      ],
      "metadata": {
        "colab": {
          "base_uri": "https://localhost:8080/"
        },
        "id": "yBE3tviDVUB-",
        "outputId": "ace594ed-c639-425a-bc66-4e685551fb29"
      },
      "execution_count": null,
      "outputs": [
        {
          "output_type": "stream",
          "name": "stdout",
          "text": [
            "Mounted at /content/drive\n"
          ]
        }
      ]
    },
    {
      "cell_type": "code",
      "execution_count": null,
      "metadata": {
        "id": "ZhrbURcMHJgs"
      },
      "outputs": [],
      "source": [
        "import warnings\n",
        "warnings.simplefilter(action='ignore', category=Warning)\n",
        "import pandas as pd\n",
        "import numpy as np\n",
        "import re\n",
        "import nltk\n",
        "from nltk.corpus import stopwords\n",
        "from tqdm import tqdm\n",
        "import seaborn as sns\n",
        "sns.set_style(\"darkgrid\")\n",
        "import matplotlib.pyplot as plt\n",
        "%matplotlib inline"
      ]
    },
    {
      "cell_type": "code",
      "source": [
        "data = '/content/drive/MyDrive/database/train.csv'\n",
        "data = pd.read_csv(data , encoding='latin1')"
      ],
      "metadata": {
        "id": "Fxpjf6NhHWuk"
      },
      "execution_count": null,
      "outputs": []
    },
    {
      "cell_type": "code",
      "source": [
        "test = '/content/drive/MyDrive/database/test.csv'\n",
        "test = pd.read_csv(test , encoding='latin1')"
      ],
      "metadata": {
        "id": "yWfu3a5adqCW"
      },
      "execution_count": null,
      "outputs": []
    },
    {
      "cell_type": "code",
      "source": [
        "data.head()"
      ],
      "metadata": {
        "colab": {
          "base_uri": "https://localhost:8080/",
          "height": 206
        },
        "id": "Sl2V6zvAHe_E",
        "outputId": "ff409c2d-6112-4215-d4fc-bc468ed08d56"
      },
      "execution_count": null,
      "outputs": [
        {
          "output_type": "execute_result",
          "data": {
            "text/plain": [
              "   id keyword location                                               text  \\\n",
              "0   1     NaN      NaN  Our Deeds are the Reason of this #earthquake M...   \n",
              "1   4     NaN      NaN             Forest fire near La Ronge Sask. Canada   \n",
              "2   5     NaN      NaN  All residents asked to 'shelter in place' are ...   \n",
              "3   6     NaN      NaN  13,000 people receive #wildfires evacuation or...   \n",
              "4   7     NaN      NaN  Just got sent this photo from Ruby #Alaska as ...   \n",
              "\n",
              "   target  \n",
              "0       1  \n",
              "1       1  \n",
              "2       1  \n",
              "3       1  \n",
              "4       1  "
            ],
            "text/html": [
              "\n",
              "  <div id=\"df-5df1f48d-e44d-4232-ac74-7046d736135e\">\n",
              "    <div class=\"colab-df-container\">\n",
              "      <div>\n",
              "<style scoped>\n",
              "    .dataframe tbody tr th:only-of-type {\n",
              "        vertical-align: middle;\n",
              "    }\n",
              "\n",
              "    .dataframe tbody tr th {\n",
              "        vertical-align: top;\n",
              "    }\n",
              "\n",
              "    .dataframe thead th {\n",
              "        text-align: right;\n",
              "    }\n",
              "</style>\n",
              "<table border=\"1\" class=\"dataframe\">\n",
              "  <thead>\n",
              "    <tr style=\"text-align: right;\">\n",
              "      <th></th>\n",
              "      <th>id</th>\n",
              "      <th>keyword</th>\n",
              "      <th>location</th>\n",
              "      <th>text</th>\n",
              "      <th>target</th>\n",
              "    </tr>\n",
              "  </thead>\n",
              "  <tbody>\n",
              "    <tr>\n",
              "      <th>0</th>\n",
              "      <td>1</td>\n",
              "      <td>NaN</td>\n",
              "      <td>NaN</td>\n",
              "      <td>Our Deeds are the Reason of this #earthquake M...</td>\n",
              "      <td>1</td>\n",
              "    </tr>\n",
              "    <tr>\n",
              "      <th>1</th>\n",
              "      <td>4</td>\n",
              "      <td>NaN</td>\n",
              "      <td>NaN</td>\n",
              "      <td>Forest fire near La Ronge Sask. Canada</td>\n",
              "      <td>1</td>\n",
              "    </tr>\n",
              "    <tr>\n",
              "      <th>2</th>\n",
              "      <td>5</td>\n",
              "      <td>NaN</td>\n",
              "      <td>NaN</td>\n",
              "      <td>All residents asked to 'shelter in place' are ...</td>\n",
              "      <td>1</td>\n",
              "    </tr>\n",
              "    <tr>\n",
              "      <th>3</th>\n",
              "      <td>6</td>\n",
              "      <td>NaN</td>\n",
              "      <td>NaN</td>\n",
              "      <td>13,000 people receive #wildfires evacuation or...</td>\n",
              "      <td>1</td>\n",
              "    </tr>\n",
              "    <tr>\n",
              "      <th>4</th>\n",
              "      <td>7</td>\n",
              "      <td>NaN</td>\n",
              "      <td>NaN</td>\n",
              "      <td>Just got sent this photo from Ruby #Alaska as ...</td>\n",
              "      <td>1</td>\n",
              "    </tr>\n",
              "  </tbody>\n",
              "</table>\n",
              "</div>\n",
              "      <button class=\"colab-df-convert\" onclick=\"convertToInteractive('df-5df1f48d-e44d-4232-ac74-7046d736135e')\"\n",
              "              title=\"Convert this dataframe to an interactive table.\"\n",
              "              style=\"display:none;\">\n",
              "        \n",
              "  <svg xmlns=\"http://www.w3.org/2000/svg\" height=\"24px\"viewBox=\"0 0 24 24\"\n",
              "       width=\"24px\">\n",
              "    <path d=\"M0 0h24v24H0V0z\" fill=\"none\"/>\n",
              "    <path d=\"M18.56 5.44l.94 2.06.94-2.06 2.06-.94-2.06-.94-.94-2.06-.94 2.06-2.06.94zm-11 1L8.5 8.5l.94-2.06 2.06-.94-2.06-.94L8.5 2.5l-.94 2.06-2.06.94zm10 10l.94 2.06.94-2.06 2.06-.94-2.06-.94-.94-2.06-.94 2.06-2.06.94z\"/><path d=\"M17.41 7.96l-1.37-1.37c-.4-.4-.92-.59-1.43-.59-.52 0-1.04.2-1.43.59L10.3 9.45l-7.72 7.72c-.78.78-.78 2.05 0 2.83L4 21.41c.39.39.9.59 1.41.59.51 0 1.02-.2 1.41-.59l7.78-7.78 2.81-2.81c.8-.78.8-2.07 0-2.86zM5.41 20L4 18.59l7.72-7.72 1.47 1.35L5.41 20z\"/>\n",
              "  </svg>\n",
              "      </button>\n",
              "      \n",
              "  <style>\n",
              "    .colab-df-container {\n",
              "      display:flex;\n",
              "      flex-wrap:wrap;\n",
              "      gap: 12px;\n",
              "    }\n",
              "\n",
              "    .colab-df-convert {\n",
              "      background-color: #E8F0FE;\n",
              "      border: none;\n",
              "      border-radius: 50%;\n",
              "      cursor: pointer;\n",
              "      display: none;\n",
              "      fill: #1967D2;\n",
              "      height: 32px;\n",
              "      padding: 0 0 0 0;\n",
              "      width: 32px;\n",
              "    }\n",
              "\n",
              "    .colab-df-convert:hover {\n",
              "      background-color: #E2EBFA;\n",
              "      box-shadow: 0px 1px 2px rgba(60, 64, 67, 0.3), 0px 1px 3px 1px rgba(60, 64, 67, 0.15);\n",
              "      fill: #174EA6;\n",
              "    }\n",
              "\n",
              "    [theme=dark] .colab-df-convert {\n",
              "      background-color: #3B4455;\n",
              "      fill: #D2E3FC;\n",
              "    }\n",
              "\n",
              "    [theme=dark] .colab-df-convert:hover {\n",
              "      background-color: #434B5C;\n",
              "      box-shadow: 0px 1px 3px 1px rgba(0, 0, 0, 0.15);\n",
              "      filter: drop-shadow(0px 1px 2px rgba(0, 0, 0, 0.3));\n",
              "      fill: #FFFFFF;\n",
              "    }\n",
              "  </style>\n",
              "\n",
              "      <script>\n",
              "        const buttonEl =\n",
              "          document.querySelector('#df-5df1f48d-e44d-4232-ac74-7046d736135e button.colab-df-convert');\n",
              "        buttonEl.style.display =\n",
              "          google.colab.kernel.accessAllowed ? 'block' : 'none';\n",
              "\n",
              "        async function convertToInteractive(key) {\n",
              "          const element = document.querySelector('#df-5df1f48d-e44d-4232-ac74-7046d736135e');\n",
              "          const dataTable =\n",
              "            await google.colab.kernel.invokeFunction('convertToInteractive',\n",
              "                                                     [key], {});\n",
              "          if (!dataTable) return;\n",
              "\n",
              "          const docLinkHtml = 'Like what you see? Visit the ' +\n",
              "            '<a target=\"_blank\" href=https://colab.research.google.com/notebooks/data_table.ipynb>data table notebook</a>'\n",
              "            + ' to learn more about interactive tables.';\n",
              "          element.innerHTML = '';\n",
              "          dataTable['output_type'] = 'display_data';\n",
              "          await google.colab.output.renderOutput(dataTable, element);\n",
              "          const docLink = document.createElement('div');\n",
              "          docLink.innerHTML = docLinkHtml;\n",
              "          element.appendChild(docLink);\n",
              "        }\n",
              "      </script>\n",
              "    </div>\n",
              "  </div>\n",
              "  "
            ]
          },
          "metadata": {},
          "execution_count": 5
        }
      ]
    },
    {
      "cell_type": "code",
      "source": [
        "data.duplicated().value_counts()"
      ],
      "metadata": {
        "colab": {
          "base_uri": "https://localhost:8080/"
        },
        "id": "osZTHK8TuRox",
        "outputId": "23202059-48c3-4447-90a2-4658e5feefff"
      },
      "execution_count": null,
      "outputs": [
        {
          "output_type": "execute_result",
          "data": {
            "text/plain": [
              "False    7613\n",
              "dtype: int64"
            ]
          },
          "metadata": {},
          "execution_count": 13
        }
      ]
    },
    {
      "cell_type": "code",
      "source": [
        "sns.countplot(data[\"target\"])"
      ],
      "metadata": {
        "colab": {
          "base_uri": "https://localhost:8080/",
          "height": 296
        },
        "id": "-PnP6Si1JdTx",
        "outputId": "45b5159f-b43d-436a-cdfe-1226372d4a6b"
      },
      "execution_count": null,
      "outputs": [
        {
          "output_type": "execute_result",
          "data": {
            "text/plain": [
              "<matplotlib.axes._subplots.AxesSubplot at 0x7f97028cdb50>"
            ]
          },
          "metadata": {},
          "execution_count": 6
        },
        {
          "output_type": "display_data",
          "data": {
            "text/plain": [
              "<Figure size 432x288 with 1 Axes>"
            ],
            "image/png": "[encoded data removed]"
          },
          "metadata": {
            "needs_background": "light"
          }
        }
      ]
    },
    {
      "cell_type": "code",
      "source": [
        "data['target'].value_counts()"
      ],
      "metadata": {
        "colab": {
          "base_uri": "https://localhost:8080/"
        },
        "id": "VxfW-wgBJwb8",
        "outputId": "ddedea44-3b70-46c8-e631-9f2ffdf7c825"
      },
      "execution_count": null,
      "outputs": [
        {
          "output_type": "execute_result",
          "data": {
            "text/plain": [
              "0    4342\n",
              "1    3271\n",
              "Name: target, dtype: int64"
            ]
          },
          "metadata": {},
          "execution_count": 14
        }
      ]
    },
    {
      "cell_type": "code",
      "source": [
        "from sklearn.utils import resample\n",
        "#create two different dataframe of majority and minority class \n",
        "df_majority = data[(data['target']==0)] \n",
        "df_minority = data[(data['target']==1)] \n",
        "# upsample minority class\n",
        "df_minority_upsampled = resample(df_minority, \n",
        "                                 replace=True,    # sample with replacement\n",
        "                                 n_samples= 4342, # to match majority class\n",
        "                                 random_state=42)  # reproducible results\n",
        "# Combine majority class with upsampled minority class\n",
        "data = pd.concat([df_minority_upsampled, df_majority])"
      ],
      "metadata": {
        "id": "zZt3XI49JgqO"
      },
      "execution_count": null,
      "outputs": []
    },
    {
      "cell_type": "code",
      "source": [
        "data['target'].value_counts()"
      ],
      "metadata": {
        "colab": {
          "base_uri": "https://localhost:8080/"
        },
        "id": "0G68m2VTKMqr",
        "outputId": "d871475a-9d22-4581-c619-b004e0448ac2"
      },
      "execution_count": null,
      "outputs": [
        {
          "output_type": "execute_result",
          "data": {
            "text/plain": [
              "1    4342\n",
              "0    4342\n",
              "Name: target, dtype: int64"
            ]
          },
          "metadata": {},
          "execution_count": 29
        }
      ]
    },
    {
      "cell_type": "code",
      "source": [
        "# the length of each tweets and creating a function for plotting an histogram based on the length data.\n",
        "\n",
        "def length_plot(data, name):\n",
        "  length = [len(sentence.split()) for sentence in data]\n",
        "  plt.hist(length)\n",
        "  plt.title(name)\n",
        "length_plot(data[data[\"target\"]==0][\"text\"], \"Not Disaster\")\n",
        "length_plot(data[data[\"target\"]==1][\"text\"], \"Disaster\")"
      ],
      "metadata": {
        "colab": {
          "base_uri": "https://localhost:8080/",
          "height": 281
        },
        "id": "nTe43PKnJoVZ",
        "outputId": "e5731519-b424-4984-b2e9-932494b0b643"
      },
      "execution_count": null,
      "outputs": [
        {
          "output_type": "display_data",
          "data": {
            "text/plain": [
              "<Figure size 432x288 with 1 Axes>"
            ],
            "image/png": "[encoded data removed]"
          },
          "metadata": {
            "needs_background": "light"
          }
        }
      ]
    },
    {
      "cell_type": "code",
      "source": [
        "#separate the dependent and independent features\n",
        "\n",
        "X = data[\"text\"] # indpendent feature\n",
        "y = data[\"target\"] # dependent feature\n",
        "y = np.array(y)"
      ],
      "metadata": {
        "id": "q8Ne_MazJt67"
      },
      "execution_count": null,
      "outputs": []
    },
    {
      "cell_type": "code",
      "source": [
        "print(X.head())\n",
        "print(y)"
      ],
      "metadata": {
        "colab": {
          "base_uri": "https://localhost:8080/"
        },
        "id": "jrMKCfnivNBA",
        "outputId": "bc8c76f5-d251-4677-b4db-ac0e5b52e3af"
      },
      "execution_count": null,
      "outputs": [
        {
          "output_type": "stream",
          "name": "stdout",
          "text": [
            "1196    'i'm a Gemini' *children screaming buildings b...\n",
            "4318    The Prophet (peace be upon him) said 'Save you...\n",
            "2161    Bigamist and his 'first' wife are charged in t...\n",
            "6280    The Storm Prediction Center has expanded the '...\n",
            "7608    Two giant cranes holding a bridge collapse int...\n",
            "Name: text, dtype: object\n",
            "[1 1 1 ... 0 0 0]\n"
          ]
        }
      ]
    },
    {
      "cell_type": "code",
      "source": [
        "# number of unique words present in the disaster tweets\n",
        "\n",
        "def unq_words(sentence):\n",
        "  unq_words_list = []\n",
        "  for sent in tqdm(sentence):\n",
        "    for word in sent.split():\n",
        "      if word.lower() not in unq_words_list:\n",
        "        unq_words_list.append(word.lower())\n",
        "      else:\n",
        "        pass\n",
        "  return unq_words_list\n",
        "unique_words = unq_words(X)\n",
        "\n",
        "print(\"\\nTotal unique words present :\",len(unique_words))"
      ],
      "metadata": {
        "colab": {
          "base_uri": "https://localhost:8080/"
        },
        "id": "5Z30h-69KPE5",
        "outputId": "ff26eecd-a6de-4984-b6e1-de8ba616b28b"
      },
      "execution_count": null,
      "outputs": [
        {
          "output_type": "stream",
          "name": "stderr",
          "text": [
            "100%|██████████| 8684/8684 [00:08<00:00, 1048.02it/s]"
          ]
        },
        {
          "output_type": "stream",
          "name": "stdout",
          "text": [
            "\n",
            "Total unique words present : 22877\n"
          ]
        },
        {
          "output_type": "stream",
          "name": "stderr",
          "text": [
            "\n"
          ]
        }
      ]
    },
    {
      "cell_type": "code",
      "source": [
        "# Some of the words are\n",
        "unique_words[:20]"
      ],
      "metadata": {
        "colab": {
          "base_uri": "https://localhost:8080/"
        },
        "id": "qhWptol2KltS",
        "outputId": "cb80d84a-96fe-450e-d1b5-6919b3a30d5f"
      },
      "execution_count": null,
      "outputs": [
        {
          "output_type": "execute_result",
          "data": {
            "text/plain": [
              "[\"'i'm\",\n",
              " 'a',\n",
              " \"gemini'\",\n",
              " '*children',\n",
              " 'screaming',\n",
              " 'buildings',\n",
              " 'burning',\n",
              " 'police',\n",
              " 'sirens',\n",
              " 'in',\n",
              " 'the',\n",
              " 'distance*',\n",
              " 'prophet',\n",
              " '(peace',\n",
              " 'be',\n",
              " 'upon',\n",
              " 'him)',\n",
              " 'said',\n",
              " \"'save\",\n",
              " 'yourself']"
            ]
          },
          "metadata": {},
          "execution_count": 34
        }
      ]
    },
    {
      "cell_type": "code",
      "source": [
        "#find these words words starting with “#”\n",
        "SYMBOL_1 = \"#\"\n",
        "sym1_words = [word for word in unique_words if word.startswith(SYMBOL_1)]\n",
        "len(sym1_words) #1965"
      ],
      "metadata": {
        "colab": {
          "base_uri": "https://localhost:8080/"
        },
        "id": "elAMGijILCfb",
        "outputId": "a99a7892-ee6b-4fdd-edad-bac457043ac1"
      },
      "execution_count": null,
      "outputs": [
        {
          "output_type": "execute_result",
          "data": {
            "text/plain": [
              "1537"
            ]
          },
          "metadata": {},
          "execution_count": 35
        }
      ]
    },
    {
      "cell_type": "code",
      "source": [
        "# Some of the words starting with “#” are\n",
        "sym1_words[200:220]"
      ],
      "metadata": {
        "colab": {
          "base_uri": "https://localhost:8080/"
        },
        "id": "GJLczgPNLJKy",
        "outputId": "9c0a0d8c-2110-4146-f12d-1a236fe42bd7"
      },
      "execution_count": null,
      "outputs": [
        {
          "output_type": "execute_result",
          "data": {
            "text/plain": [
              "['#mh370',\n",
              " '#worldnews',\n",
              " '#notrocketscience',\n",
              " '#uswarcrimes',\n",
              " '#gbbo',\n",
              " '#fiya!',\n",
              " '#paramedic',\n",
              " '#tubestrike',\n",
              " '#respect',\n",
              " '#pantherattack',\n",
              " \"#ferguson's\",\n",
              " '#629',\n",
              " '#typhoon',\n",
              " '#buffalo',\n",
              " '#uknews',\n",
              " '#sacramento',\n",
              " '#foxnews',\n",
              " '#theneeds',\n",
              " '#recipes',\n",
              " '#smartnews']"
            ]
          },
          "metadata": {},
          "execution_count": 36
        }
      ]
    },
    {
      "cell_type": "code",
      "source": [
        "# words starting with “@”\n",
        "SYMBOL_2 = \"@\"\n",
        "sym2_words = [word for word in unique_words if word.startswith(SYMBOL_2)]\n",
        "len(sym2_words) #2264"
      ],
      "metadata": {
        "colab": {
          "base_uri": "https://localhost:8080/"
        },
        "id": "z_XQXfzKLZ1d",
        "outputId": "56de53e5-0409-4910-e693-7ae32ec38a90"
      },
      "execution_count": null,
      "outputs": [
        {
          "output_type": "execute_result",
          "data": {
            "text/plain": [
              "1859"
            ]
          },
          "metadata": {},
          "execution_count": 37
        }
      ]
    },
    {
      "cell_type": "code",
      "source": [
        "sym2_words[100:120]"
      ],
      "metadata": {
        "colab": {
          "base_uri": "https://localhost:8080/"
        },
        "id": "nYYWngSxLgx4",
        "outputId": "f575c108-98be-48bd-b82d-ce031332b1ec"
      },
      "execution_count": null,
      "outputs": [
        {
          "output_type": "execute_result",
          "data": {
            "text/plain": [
              "['@universityoflaw',\n",
              " '@mayoroflondon',\n",
              " '@2for1lapdances',\n",
              " '@change',\n",
              " '@martinmj22',\n",
              " '@yougov',\n",
              " '@creationsbykole',\n",
              " '@weathernetwork',\n",
              " '@chowtaxis',\n",
              " '@jenniferarri_',\n",
              " '@martynwaites',\n",
              " '@news@',\n",
              " '@wocowae',\n",
              " '@rachelcaine',\n",
              " '@ohmygoshi',\n",
              " '@unsuckdcmetro',\n",
              " '@youngheroesid',\n",
              " '@cunayyh',\n",
              " '@taufikcj',\n",
              " '@yahoonews']"
            ]
          },
          "metadata": {},
          "execution_count": 38
        }
      ]
    },
    {
      "cell_type": "code",
      "source": [
        "#  remove the  urls present in it.\n",
        "def url_remover(text):\n",
        "    url_patterns = re.compile(r'https?://S+|www.S+')\n",
        "    return url_patterns.sub(r'', text)"
      ],
      "metadata": {
        "id": "sikn5n_LLjTG"
      },
      "execution_count": null,
      "outputs": []
    },
    {
      "cell_type": "code",
      "source": [
        "# lower case\n",
        "data['text']= data['text'].apply(lambda x: x.lower())\n",
        "data.head()"
      ],
      "metadata": {
        "colab": {
          "base_uri": "https://localhost:8080/",
          "height": 206
        },
        "id": "85GNGL5cS92t",
        "outputId": "da7efe34-5d8d-4514-864f-ecc5f870324e"
      },
      "execution_count": null,
      "outputs": [
        {
          "output_type": "execute_result",
          "data": {
            "text/plain": [
              "         id              keyword  \\\n",
              "1196   1722  buildings%20burning   \n",
              "4318   6132             hellfire   \n",
              "2161   3101               deaths   \n",
              "6280   8971                storm   \n",
              "7608  10869                  NaN   \n",
              "\n",
              "                                          location  \\\n",
              "1196                                           NaN   \n",
              "4318                                           NaN   \n",
              "2161  ÃÃT: 10.614817868480726,12.195582811791382   \n",
              "6280                                   Raleigh, NC   \n",
              "7608                                           NaN   \n",
              "\n",
              "                                                   text  target  \n",
              "1196  'i'm a gemini' *children screaming buildings b...       1  \n",
              "4318  the prophet (peace be upon him) said 'save you...       1  \n",
              "2161  bigamist and his 'first' wife are charged in t...       1  \n",
              "6280  the storm prediction center has expanded the '...       1  \n",
              "7608  two giant cranes holding a bridge collapse int...       1  "
            ],
            "text/html": [
              "\n",
              "  <div id=\"df-5fb83b2a-88ba-496d-8a2f-9ce736d333c3\">\n",
              "    <div class=\"colab-df-container\">\n",
              "      <div>\n",
              "<style scoped>\n",
              "    .dataframe tbody tr th:only-of-type {\n",
              "        vertical-align: middle;\n",
              "    }\n",
              "\n",
              "    .dataframe tbody tr th {\n",
              "        vertical-align: top;\n",
              "    }\n",
              "\n",
              "    .dataframe thead th {\n",
              "        text-align: right;\n",
              "    }\n",
              "</style>\n",
              "<table border=\"1\" class=\"dataframe\">\n",
              "  <thead>\n",
              "    <tr style=\"text-align: right;\">\n",
              "      <th></th>\n",
              "      <th>id</th>\n",
              "      <th>keyword</th>\n",
              "      <th>location</th>\n",
              "      <th>text</th>\n",
              "      <th>target</th>\n",
              "    </tr>\n",
              "  </thead>\n",
              "  <tbody>\n",
              "    <tr>\n",
              "      <th>1196</th>\n",
              "      <td>1722</td>\n",
              "      <td>buildings%20burning</td>\n",
              "      <td>NaN</td>\n",
              "      <td>'i'm a gemini' *children screaming buildings b...</td>\n",
              "      <td>1</td>\n",
              "    </tr>\n",
              "    <tr>\n",
              "      <th>4318</th>\n",
              "      <td>6132</td>\n",
              "      <td>hellfire</td>\n",
              "      <td>NaN</td>\n",
              "      <td>the prophet (peace be upon him) said 'save you...</td>\n",
              "      <td>1</td>\n",
              "    </tr>\n",
              "    <tr>\n",
              "      <th>2161</th>\n",
              "      <td>3101</td>\n",
              "      <td>deaths</td>\n",
              "      <td>ÃÃT: 10.614817868480726,12.195582811791382</td>\n",
              "      <td>bigamist and his 'first' wife are charged in t...</td>\n",
              "      <td>1</td>\n",
              "    </tr>\n",
              "    <tr>\n",
              "      <th>6280</th>\n",
              "      <td>8971</td>\n",
              "      <td>storm</td>\n",
              "      <td>Raleigh, NC</td>\n",
              "      <td>the storm prediction center has expanded the '...</td>\n",
              "      <td>1</td>\n",
              "    </tr>\n",
              "    <tr>\n",
              "      <th>7608</th>\n",
              "      <td>10869</td>\n",
              "      <td>NaN</td>\n",
              "      <td>NaN</td>\n",
              "      <td>two giant cranes holding a bridge collapse int...</td>\n",
              "      <td>1</td>\n",
              "    </tr>\n",
              "  </tbody>\n",
              "</table>\n",
              "</div>\n",
              "      <button class=\"colab-df-convert\" onclick=\"convertToInteractive('df-5fb83b2a-88ba-496d-8a2f-9ce736d333c3')\"\n",
              "              title=\"Convert this dataframe to an interactive table.\"\n",
              "              style=\"display:none;\">\n",
              "        \n",
              "  <svg xmlns=\"http://www.w3.org/2000/svg\" height=\"24px\"viewBox=\"0 0 24 24\"\n",
              "       width=\"24px\">\n",
              "    <path d=\"M0 0h24v24H0V0z\" fill=\"none\"/>\n",
              "    <path d=\"M18.56 5.44l.94 2.06.94-2.06 2.06-.94-2.06-.94-.94-2.06-.94 2.06-2.06.94zm-11 1L8.5 8.5l.94-2.06 2.06-.94-2.06-.94L8.5 2.5l-.94 2.06-2.06.94zm10 10l.94 2.06.94-2.06 2.06-.94-2.06-.94-.94-2.06-.94 2.06-2.06.94z\"/><path d=\"M17.41 7.96l-1.37-1.37c-.4-.4-.92-.59-1.43-.59-.52 0-1.04.2-1.43.59L10.3 9.45l-7.72 7.72c-.78.78-.78 2.05 0 2.83L4 21.41c.39.39.9.59 1.41.59.51 0 1.02-.2 1.41-.59l7.78-7.78 2.81-2.81c.8-.78.8-2.07 0-2.86zM5.41 20L4 18.59l7.72-7.72 1.47 1.35L5.41 20z\"/>\n",
              "  </svg>\n",
              "      </button>\n",
              "      \n",
              "  <style>\n",
              "    .colab-df-container {\n",
              "      display:flex;\n",
              "      flex-wrap:wrap;\n",
              "      gap: 12px;\n",
              "    }\n",
              "\n",
              "    .colab-df-convert {\n",
              "      background-color: #E8F0FE;\n",
              "      border: none;\n",
              "      border-radius: 50%;\n",
              "      cursor: pointer;\n",
              "      display: none;\n",
              "      fill: #1967D2;\n",
              "      height: 32px;\n",
              "      padding: 0 0 0 0;\n",
              "      width: 32px;\n",
              "    }\n",
              "\n",
              "    .colab-df-convert:hover {\n",
              "      background-color: #E2EBFA;\n",
              "      box-shadow: 0px 1px 2px rgba(60, 64, 67, 0.3), 0px 1px 3px 1px rgba(60, 64, 67, 0.15);\n",
              "      fill: #174EA6;\n",
              "    }\n",
              "\n",
              "    [theme=dark] .colab-df-convert {\n",
              "      background-color: #3B4455;\n",
              "      fill: #D2E3FC;\n",
              "    }\n",
              "\n",
              "    [theme=dark] .colab-df-convert:hover {\n",
              "      background-color: #434B5C;\n",
              "      box-shadow: 0px 1px 3px 1px rgba(0, 0, 0, 0.15);\n",
              "      filter: drop-shadow(0px 1px 2px rgba(0, 0, 0, 0.3));\n",
              "      fill: #FFFFFF;\n",
              "    }\n",
              "  </style>\n",
              "\n",
              "      <script>\n",
              "        const buttonEl =\n",
              "          document.querySelector('#df-5fb83b2a-88ba-496d-8a2f-9ce736d333c3 button.colab-df-convert');\n",
              "        buttonEl.style.display =\n",
              "          google.colab.kernel.accessAllowed ? 'block' : 'none';\n",
              "\n",
              "        async function convertToInteractive(key) {\n",
              "          const element = document.querySelector('#df-5fb83b2a-88ba-496d-8a2f-9ce736d333c3');\n",
              "          const dataTable =\n",
              "            await google.colab.kernel.invokeFunction('convertToInteractive',\n",
              "                                                     [key], {});\n",
              "          if (!dataTable) return;\n",
              "\n",
              "          const docLinkHtml = 'Like what you see? Visit the ' +\n",
              "            '<a target=\"_blank\" href=https://colab.research.google.com/notebooks/data_table.ipynb>data table notebook</a>'\n",
              "            + ' to learn more about interactive tables.';\n",
              "          element.innerHTML = '';\n",
              "          dataTable['output_type'] = 'display_data';\n",
              "          await google.colab.output.renderOutput(dataTable, element);\n",
              "          const docLink = document.createElement('div');\n",
              "          docLink.innerHTML = docLinkHtml;\n",
              "          element.appendChild(docLink);\n",
              "        }\n",
              "      </script>\n",
              "    </div>\n",
              "  </div>\n",
              "  "
            ]
          },
          "metadata": {},
          "execution_count": 40
        }
      ]
    },
    {
      "cell_type": "code",
      "source": [
        "data['text'] = data['text'].str.replace('[#,@,&]', '')\n",
        "data.head()"
      ],
      "metadata": {
        "id": "ZF2PDjNeUT7h",
        "colab": {
          "base_uri": "https://localhost:8080/",
          "height": 206
        },
        "outputId": "8d10bbc9-2e41-48f3-e6eb-74bf4049c306"
      },
      "execution_count": null,
      "outputs": [
        {
          "output_type": "execute_result",
          "data": {
            "text/plain": [
              "         id              keyword  \\\n",
              "1196   1722  buildings%20burning   \n",
              "4318   6132             hellfire   \n",
              "2161   3101               deaths   \n",
              "6280   8971                storm   \n",
              "7608  10869                  NaN   \n",
              "\n",
              "                                          location  \\\n",
              "1196                                           NaN   \n",
              "4318                                           NaN   \n",
              "2161  ÃÃT: 10.614817868480726,12.195582811791382   \n",
              "6280                                   Raleigh, NC   \n",
              "7608                                           NaN   \n",
              "\n",
              "                                                   text  target  \n",
              "1196  'i'm a gemini' *children screaming buildings b...       1  \n",
              "4318  the prophet (peace be upon him) said 'save you...       1  \n",
              "2161  bigamist and his 'first' wife are charged in t...       1  \n",
              "6280  the storm prediction center has expanded the '...       1  \n",
              "7608  two giant cranes holding a bridge collapse int...       1  "
            ],
            "text/html": [
              "\n",
              "  <div id=\"df-55c1b145-7836-4e08-a60a-ec68ca7e7749\">\n",
              "    <div class=\"colab-df-container\">\n",
              "      <div>\n",
              "<style scoped>\n",
              "    .dataframe tbody tr th:only-of-type {\n",
              "        vertical-align: middle;\n",
              "    }\n",
              "\n",
              "    .dataframe tbody tr th {\n",
              "        vertical-align: top;\n",
              "    }\n",
              "\n",
              "    .dataframe thead th {\n",
              "        text-align: right;\n",
              "    }\n",
              "</style>\n",
              "<table border=\"1\" class=\"dataframe\">\n",
              "  <thead>\n",
              "    <tr style=\"text-align: right;\">\n",
              "      <th></th>\n",
              "      <th>id</th>\n",
              "      <th>keyword</th>\n",
              "      <th>location</th>\n",
              "      <th>text</th>\n",
              "      <th>target</th>\n",
              "    </tr>\n",
              "  </thead>\n",
              "  <tbody>\n",
              "    <tr>\n",
              "      <th>1196</th>\n",
              "      <td>1722</td>\n",
              "      <td>buildings%20burning</td>\n",
              "      <td>NaN</td>\n",
              "      <td>'i'm a gemini' *children screaming buildings b...</td>\n",
              "      <td>1</td>\n",
              "    </tr>\n",
              "    <tr>\n",
              "      <th>4318</th>\n",
              "      <td>6132</td>\n",
              "      <td>hellfire</td>\n",
              "      <td>NaN</td>\n",
              "      <td>the prophet (peace be upon him) said 'save you...</td>\n",
              "      <td>1</td>\n",
              "    </tr>\n",
              "    <tr>\n",
              "      <th>2161</th>\n",
              "      <td>3101</td>\n",
              "      <td>deaths</td>\n",
              "      <td>ÃÃT: 10.614817868480726,12.195582811791382</td>\n",
              "      <td>bigamist and his 'first' wife are charged in t...</td>\n",
              "      <td>1</td>\n",
              "    </tr>\n",
              "    <tr>\n",
              "      <th>6280</th>\n",
              "      <td>8971</td>\n",
              "      <td>storm</td>\n",
              "      <td>Raleigh, NC</td>\n",
              "      <td>the storm prediction center has expanded the '...</td>\n",
              "      <td>1</td>\n",
              "    </tr>\n",
              "    <tr>\n",
              "      <th>7608</th>\n",
              "      <td>10869</td>\n",
              "      <td>NaN</td>\n",
              "      <td>NaN</td>\n",
              "      <td>two giant cranes holding a bridge collapse int...</td>\n",
              "      <td>1</td>\n",
              "    </tr>\n",
              "  </tbody>\n",
              "</table>\n",
              "</div>\n",
              "      <button class=\"colab-df-convert\" onclick=\"convertToInteractive('df-55c1b145-7836-4e08-a60a-ec68ca7e7749')\"\n",
              "              title=\"Convert this dataframe to an interactive table.\"\n",
              "              style=\"display:none;\">\n",
              "        \n",
              "  <svg xmlns=\"http://www.w3.org/2000/svg\" height=\"24px\"viewBox=\"0 0 24 24\"\n",
              "       width=\"24px\">\n",
              "    <path d=\"M0 0h24v24H0V0z\" fill=\"none\"/>\n",
              "    <path d=\"M18.56 5.44l.94 2.06.94-2.06 2.06-.94-2.06-.94-.94-2.06-.94 2.06-2.06.94zm-11 1L8.5 8.5l.94-2.06 2.06-.94-2.06-.94L8.5 2.5l-.94 2.06-2.06.94zm10 10l.94 2.06.94-2.06 2.06-.94-2.06-.94-.94-2.06-.94 2.06-2.06.94z\"/><path d=\"M17.41 7.96l-1.37-1.37c-.4-.4-.92-.59-1.43-.59-.52 0-1.04.2-1.43.59L10.3 9.45l-7.72 7.72c-.78.78-.78 2.05 0 2.83L4 21.41c.39.39.9.59 1.41.59.51 0 1.02-.2 1.41-.59l7.78-7.78 2.81-2.81c.8-.78.8-2.07 0-2.86zM5.41 20L4 18.59l7.72-7.72 1.47 1.35L5.41 20z\"/>\n",
              "  </svg>\n",
              "      </button>\n",
              "      \n",
              "  <style>\n",
              "    .colab-df-container {\n",
              "      display:flex;\n",
              "      flex-wrap:wrap;\n",
              "      gap: 12px;\n",
              "    }\n",
              "\n",
              "    .colab-df-convert {\n",
              "      background-color: #E8F0FE;\n",
              "      border: none;\n",
              "      border-radius: 50%;\n",
              "      cursor: pointer;\n",
              "      display: none;\n",
              "      fill: #1967D2;\n",
              "      height: 32px;\n",
              "      padding: 0 0 0 0;\n",
              "      width: 32px;\n",
              "    }\n",
              "\n",
              "    .colab-df-convert:hover {\n",
              "      background-color: #E2EBFA;\n",
              "      box-shadow: 0px 1px 2px rgba(60, 64, 67, 0.3), 0px 1px 3px 1px rgba(60, 64, 67, 0.15);\n",
              "      fill: #174EA6;\n",
              "    }\n",
              "\n",
              "    [theme=dark] .colab-df-convert {\n",
              "      background-color: #3B4455;\n",
              "      fill: #D2E3FC;\n",
              "    }\n",
              "\n",
              "    [theme=dark] .colab-df-convert:hover {\n",
              "      background-color: #434B5C;\n",
              "      box-shadow: 0px 1px 3px 1px rgba(0, 0, 0, 0.15);\n",
              "      filter: drop-shadow(0px 1px 2px rgba(0, 0, 0, 0.3));\n",
              "      fill: #FFFFFF;\n",
              "    }\n",
              "  </style>\n",
              "\n",
              "      <script>\n",
              "        const buttonEl =\n",
              "          document.querySelector('#df-55c1b145-7836-4e08-a60a-ec68ca7e7749 button.colab-df-convert');\n",
              "        buttonEl.style.display =\n",
              "          google.colab.kernel.accessAllowed ? 'block' : 'none';\n",
              "\n",
              "        async function convertToInteractive(key) {\n",
              "          const element = document.querySelector('#df-55c1b145-7836-4e08-a60a-ec68ca7e7749');\n",
              "          const dataTable =\n",
              "            await google.colab.kernel.invokeFunction('convertToInteractive',\n",
              "                                                     [key], {});\n",
              "          if (!dataTable) return;\n",
              "\n",
              "          const docLinkHtml = 'Like what you see? Visit the ' +\n",
              "            '<a target=\"_blank\" href=https://colab.research.google.com/notebooks/data_table.ipynb>data table notebook</a>'\n",
              "            + ' to learn more about interactive tables.';\n",
              "          element.innerHTML = '';\n",
              "          dataTable['output_type'] = 'display_data';\n",
              "          await google.colab.output.renderOutput(dataTable, element);\n",
              "          const docLink = document.createElement('div');\n",
              "          docLink.innerHTML = docLinkHtml;\n",
              "          element.appendChild(docLink);\n",
              "        }\n",
              "      </script>\n",
              "    </div>\n",
              "  </div>\n",
              "  "
            ]
          },
          "metadata": {},
          "execution_count": 41
        }
      ]
    },
    {
      "cell_type": "code",
      "source": [
        "import nltk\n",
        "\n",
        "  \n",
        "import nltk.corpus\n",
        "nltk.download('stopwords')\n",
        "from nltk.corpus import stopwords\n",
        "\n",
        "stop_words = stopwords.words('english')\n",
        "data['text'] = data['text'].apply(lambda x: ' '.join([word for word in x.split() if word not in (stop_words)]))"
      ],
      "metadata": {
        "colab": {
          "base_uri": "https://localhost:8080/"
        },
        "id": "jFsAQF7vLoIu",
        "outputId": "1573a3f9-ced3-4c8c-cfd6-8b5876852312"
      },
      "execution_count": null,
      "outputs": [
        {
          "output_type": "stream",
          "name": "stderr",
          "text": [
            "[nltk_data] Downloading package stopwords to /root/nltk_data...\n",
            "[nltk_data]   Unzipping corpora/stopwords.zip.\n"
          ]
        }
      ]
    },
    {
      "cell_type": "code",
      "source": [
        "data.head()"
      ],
      "metadata": {
        "colab": {
          "base_uri": "https://localhost:8080/",
          "height": 206
        },
        "id": "qQW3fuoZM_ic",
        "outputId": "e9028dd7-f231-478c-a91a-fa333b458b4a"
      },
      "execution_count": null,
      "outputs": [
        {
          "output_type": "execute_result",
          "data": {
            "text/plain": [
              "         id              keyword  \\\n",
              "1196   1722  buildings%20burning   \n",
              "4318   6132             hellfire   \n",
              "2161   3101               deaths   \n",
              "6280   8971                storm   \n",
              "7608  10869                  NaN   \n",
              "\n",
              "                                          location  \\\n",
              "1196                                           NaN   \n",
              "4318                                           NaN   \n",
              "2161  ÃÃT: 10.614817868480726,12.195582811791382   \n",
              "6280                                   Raleigh, NC   \n",
              "7608                                           NaN   \n",
              "\n",
              "                                                   text  target  \n",
              "1196  'i'm gemini' *children screaming buildings bur...       1  \n",
              "4318  prophet (peace upon him) said 'save hellfire e...       1  \n",
              "2161  bigamist 'first' wife charged deaths 'second' ...       1  \n",
              "6280  storm prediction center expanded 'slight risk'...       1  \n",
              "7608  two giant cranes holding bridge collapse nearb...       1  "
            ],
            "text/html": [
              "\n",
              "  <div id=\"df-da3c4f4e-ff66-4791-8fe8-f213f15db96d\">\n",
              "    <div class=\"colab-df-container\">\n",
              "      <div>\n",
              "<style scoped>\n",
              "    .dataframe tbody tr th:only-of-type {\n",
              "        vertical-align: middle;\n",
              "    }\n",
              "\n",
              "    .dataframe tbody tr th {\n",
              "        vertical-align: top;\n",
              "    }\n",
              "\n",
              "    .dataframe thead th {\n",
              "        text-align: right;\n",
              "    }\n",
              "</style>\n",
              "<table border=\"1\" class=\"dataframe\">\n",
              "  <thead>\n",
              "    <tr style=\"text-align: right;\">\n",
              "      <th></th>\n",
              "      <th>id</th>\n",
              "      <th>keyword</th>\n",
              "      <th>location</th>\n",
              "      <th>text</th>\n",
              "      <th>target</th>\n",
              "    </tr>\n",
              "  </thead>\n",
              "  <tbody>\n",
              "    <tr>\n",
              "      <th>1196</th>\n",
              "      <td>1722</td>\n",
              "      <td>buildings%20burning</td>\n",
              "      <td>NaN</td>\n",
              "      <td>'i'm gemini' *children screaming buildings bur...</td>\n",
              "      <td>1</td>\n",
              "    </tr>\n",
              "    <tr>\n",
              "      <th>4318</th>\n",
              "      <td>6132</td>\n",
              "      <td>hellfire</td>\n",
              "      <td>NaN</td>\n",
              "      <td>prophet (peace upon him) said 'save hellfire e...</td>\n",
              "      <td>1</td>\n",
              "    </tr>\n",
              "    <tr>\n",
              "      <th>2161</th>\n",
              "      <td>3101</td>\n",
              "      <td>deaths</td>\n",
              "      <td>ÃÃT: 10.614817868480726,12.195582811791382</td>\n",
              "      <td>bigamist 'first' wife charged deaths 'second' ...</td>\n",
              "      <td>1</td>\n",
              "    </tr>\n",
              "    <tr>\n",
              "      <th>6280</th>\n",
              "      <td>8971</td>\n",
              "      <td>storm</td>\n",
              "      <td>Raleigh, NC</td>\n",
              "      <td>storm prediction center expanded 'slight risk'...</td>\n",
              "      <td>1</td>\n",
              "    </tr>\n",
              "    <tr>\n",
              "      <th>7608</th>\n",
              "      <td>10869</td>\n",
              "      <td>NaN</td>\n",
              "      <td>NaN</td>\n",
              "      <td>two giant cranes holding bridge collapse nearb...</td>\n",
              "      <td>1</td>\n",
              "    </tr>\n",
              "  </tbody>\n",
              "</table>\n",
              "</div>\n",
              "      <button class=\"colab-df-convert\" onclick=\"convertToInteractive('df-da3c4f4e-ff66-4791-8fe8-f213f15db96d')\"\n",
              "              title=\"Convert this dataframe to an interactive table.\"\n",
              "              style=\"display:none;\">\n",
              "        \n",
              "  <svg xmlns=\"http://www.w3.org/2000/svg\" height=\"24px\"viewBox=\"0 0 24 24\"\n",
              "       width=\"24px\">\n",
              "    <path d=\"M0 0h24v24H0V0z\" fill=\"none\"/>\n",
              "    <path d=\"M18.56 5.44l.94 2.06.94-2.06 2.06-.94-2.06-.94-.94-2.06-.94 2.06-2.06.94zm-11 1L8.5 8.5l.94-2.06 2.06-.94-2.06-.94L8.5 2.5l-.94 2.06-2.06.94zm10 10l.94 2.06.94-2.06 2.06-.94-2.06-.94-.94-2.06-.94 2.06-2.06.94z\"/><path d=\"M17.41 7.96l-1.37-1.37c-.4-.4-.92-.59-1.43-.59-.52 0-1.04.2-1.43.59L10.3 9.45l-7.72 7.72c-.78.78-.78 2.05 0 2.83L4 21.41c.39.39.9.59 1.41.59.51 0 1.02-.2 1.41-.59l7.78-7.78 2.81-2.81c.8-.78.8-2.07 0-2.86zM5.41 20L4 18.59l7.72-7.72 1.47 1.35L5.41 20z\"/>\n",
              "  </svg>\n",
              "      </button>\n",
              "      \n",
              "  <style>\n",
              "    .colab-df-container {\n",
              "      display:flex;\n",
              "      flex-wrap:wrap;\n",
              "      gap: 12px;\n",
              "    }\n",
              "\n",
              "    .colab-df-convert {\n",
              "      background-color: #E8F0FE;\n",
              "      border: none;\n",
              "      border-radius: 50%;\n",
              "      cursor: pointer;\n",
              "      display: none;\n",
              "      fill: #1967D2;\n",
              "      height: 32px;\n",
              "      padding: 0 0 0 0;\n",
              "      width: 32px;\n",
              "    }\n",
              "\n",
              "    .colab-df-convert:hover {\n",
              "      background-color: #E2EBFA;\n",
              "      box-shadow: 0px 1px 2px rgba(60, 64, 67, 0.3), 0px 1px 3px 1px rgba(60, 64, 67, 0.15);\n",
              "      fill: #174EA6;\n",
              "    }\n",
              "\n",
              "    [theme=dark] .colab-df-convert {\n",
              "      background-color: #3B4455;\n",
              "      fill: #D2E3FC;\n",
              "    }\n",
              "\n",
              "    [theme=dark] .colab-df-convert:hover {\n",
              "      background-color: #434B5C;\n",
              "      box-shadow: 0px 1px 3px 1px rgba(0, 0, 0, 0.15);\n",
              "      filter: drop-shadow(0px 1px 2px rgba(0, 0, 0, 0.3));\n",
              "      fill: #FFFFFF;\n",
              "    }\n",
              "  </style>\n",
              "\n",
              "      <script>\n",
              "        const buttonEl =\n",
              "          document.querySelector('#df-da3c4f4e-ff66-4791-8fe8-f213f15db96d button.colab-df-convert');\n",
              "        buttonEl.style.display =\n",
              "          google.colab.kernel.accessAllowed ? 'block' : 'none';\n",
              "\n",
              "        async function convertToInteractive(key) {\n",
              "          const element = document.querySelector('#df-da3c4f4e-ff66-4791-8fe8-f213f15db96d');\n",
              "          const dataTable =\n",
              "            await google.colab.kernel.invokeFunction('convertToInteractive',\n",
              "                                                     [key], {});\n",
              "          if (!dataTable) return;\n",
              "\n",
              "          const docLinkHtml = 'Like what you see? Visit the ' +\n",
              "            '<a target=\"_blank\" href=https://colab.research.google.com/notebooks/data_table.ipynb>data table notebook</a>'\n",
              "            + ' to learn more about interactive tables.';\n",
              "          element.innerHTML = '';\n",
              "          dataTable['output_type'] = 'display_data';\n",
              "          await google.colab.output.renderOutput(dataTable, element);\n",
              "          const docLink = document.createElement('div');\n",
              "          docLink.innerHTML = docLinkHtml;\n",
              "          element.appendChild(docLink);\n",
              "        }\n",
              "      </script>\n",
              "    </div>\n",
              "  </div>\n",
              "  "
            ]
          },
          "metadata": {},
          "execution_count": 43
        }
      ]
    },
    {
      "cell_type": "code",
      "source": [
        "data.isnull().sum()"
      ],
      "metadata": {
        "colab": {
          "base_uri": "https://localhost:8080/"
        },
        "id": "9U-24uBjTZPy",
        "outputId": "472dacd6-9c47-4f3c-fc0f-49060983bf8f"
      },
      "execution_count": null,
      "outputs": [
        {
          "output_type": "execute_result",
          "data": {
            "text/plain": [
              "id             0\n",
              "keyword       99\n",
              "location    2972\n",
              "text           0\n",
              "target         0\n",
              "dtype: int64"
            ]
          },
          "metadata": {},
          "execution_count": 44
        }
      ]
    },
    {
      "cell_type": "code",
      "source": [
        "data.dropna(subset=['keyword'])"
      ],
      "metadata": {
        "colab": {
          "base_uri": "https://localhost:8080/",
          "height": 424
        },
        "id": "5OVhvI50TtIC",
        "outputId": "52f96f7e-8bba-4861-bdd6-4a2236026727"
      },
      "execution_count": null,
      "outputs": [
        {
          "output_type": "execute_result",
          "data": {
            "text/plain": [
              "         id              keyword  \\\n",
              "1196   1722  buildings%20burning   \n",
              "4318   6132             hellfire   \n",
              "2161   3101               deaths   \n",
              "6280   8971                storm   \n",
              "3564   5095               famine   \n",
              "...     ...                  ...   \n",
              "7578  10830              wrecked   \n",
              "7579  10831              wrecked   \n",
              "7580  10832              wrecked   \n",
              "7581  10833              wrecked   \n",
              "7582  10834              wrecked   \n",
              "\n",
              "                                          location  \\\n",
              "1196                                           NaN   \n",
              "4318                                           NaN   \n",
              "2161  ÃÃT: 10.614817868480726,12.195582811791382   \n",
              "6280                                   Raleigh, NC   \n",
              "3564                                       Ireland   \n",
              "...                                            ...   \n",
              "7578                                           NaN   \n",
              "7579                             Vancouver, Canada   \n",
              "7580                                       London    \n",
              "7581                                       Lincoln   \n",
              "7582                                           NaN   \n",
              "\n",
              "                                                   text  target  \n",
              "1196  'i'm gemini' *children screaming buildings bur...       1  \n",
              "4318  prophet (peace upon him) said 'save hellfire e...       1  \n",
              "2161  bigamist 'first' wife charged deaths 'second' ...       1  \n",
              "6280  storm prediction center expanded 'slight risk'...       1  \n",
              "3564  i've experienced smell rotting potatoes first ...       1  \n",
              "...                                                 ...     ...  \n",
              "7578                    jt_ruff23 cameronhacker wrecked       0  \n",
              "7579  three days work they've pretty much wrecked ha...       0  \n",
              "7580  fx forex trading cramer: iger's 3 words wrecke...       0  \n",
              "7581  engineshed great atmosphere british lion gig t...       0  \n",
              "7582  cramer: iger's 3 words wrecked disney's stock ...       0  \n",
              "\n",
              "[8585 rows x 5 columns]"
            ],
            "text/html": [
              "\n",
              "  <div id=\"df-904d2d89-1592-4131-85d3-34b9fe3b3b46\">\n",
              "    <div class=\"colab-df-container\">\n",
              "      <div>\n",
              "<style scoped>\n",
              "    .dataframe tbody tr th:only-of-type {\n",
              "        vertical-align: middle;\n",
              "    }\n",
              "\n",
              "    .dataframe tbody tr th {\n",
              "        vertical-align: top;\n",
              "    }\n",
              "\n",
              "    .dataframe thead th {\n",
              "        text-align: right;\n",
              "    }\n",
              "</style>\n",
              "<table border=\"1\" class=\"dataframe\">\n",
              "  <thead>\n",
              "    <tr style=\"text-align: right;\">\n",
              "      <th></th>\n",
              "      <th>id</th>\n",
              "      <th>keyword</th>\n",
              "      <th>location</th>\n",
              "      <th>text</th>\n",
              "      <th>target</th>\n",
              "    </tr>\n",
              "  </thead>\n",
              "  <tbody>\n",
              "    <tr>\n",
              "      <th>1196</th>\n",
              "      <td>1722</td>\n",
              "      <td>buildings%20burning</td>\n",
              "      <td>NaN</td>\n",
              "      <td>'i'm gemini' *children screaming buildings bur...</td>\n",
              "      <td>1</td>\n",
              "    </tr>\n",
              "    <tr>\n",
              "      <th>4318</th>\n",
              "      <td>6132</td>\n",
              "      <td>hellfire</td>\n",
              "      <td>NaN</td>\n",
              "      <td>prophet (peace upon him) said 'save hellfire e...</td>\n",
              "      <td>1</td>\n",
              "    </tr>\n",
              "    <tr>\n",
              "      <th>2161</th>\n",
              "      <td>3101</td>\n",
              "      <td>deaths</td>\n",
              "      <td>ÃÃT: 10.614817868480726,12.195582811791382</td>\n",
              "      <td>bigamist 'first' wife charged deaths 'second' ...</td>\n",
              "      <td>1</td>\n",
              "    </tr>\n",
              "    <tr>\n",
              "      <th>6280</th>\n",
              "      <td>8971</td>\n",
              "      <td>storm</td>\n",
              "      <td>Raleigh, NC</td>\n",
              "      <td>storm prediction center expanded 'slight risk'...</td>\n",
              "      <td>1</td>\n",
              "    </tr>\n",
              "    <tr>\n",
              "      <th>3564</th>\n",
              "      <td>5095</td>\n",
              "      <td>famine</td>\n",
              "      <td>Ireland</td>\n",
              "      <td>i've experienced smell rotting potatoes first ...</td>\n",
              "      <td>1</td>\n",
              "    </tr>\n",
              "    <tr>\n",
              "      <th>...</th>\n",
              "      <td>...</td>\n",
              "      <td>...</td>\n",
              "      <td>...</td>\n",
              "      <td>...</td>\n",
              "      <td>...</td>\n",
              "    </tr>\n",
              "    <tr>\n",
              "      <th>7578</th>\n",
              "      <td>10830</td>\n",
              "      <td>wrecked</td>\n",
              "      <td>NaN</td>\n",
              "      <td>jt_ruff23 cameronhacker wrecked</td>\n",
              "      <td>0</td>\n",
              "    </tr>\n",
              "    <tr>\n",
              "      <th>7579</th>\n",
              "      <td>10831</td>\n",
              "      <td>wrecked</td>\n",
              "      <td>Vancouver, Canada</td>\n",
              "      <td>three days work they've pretty much wrecked ha...</td>\n",
              "      <td>0</td>\n",
              "    </tr>\n",
              "    <tr>\n",
              "      <th>7580</th>\n",
              "      <td>10832</td>\n",
              "      <td>wrecked</td>\n",
              "      <td>London</td>\n",
              "      <td>fx forex trading cramer: iger's 3 words wrecke...</td>\n",
              "      <td>0</td>\n",
              "    </tr>\n",
              "    <tr>\n",
              "      <th>7581</th>\n",
              "      <td>10833</td>\n",
              "      <td>wrecked</td>\n",
              "      <td>Lincoln</td>\n",
              "      <td>engineshed great atmosphere british lion gig t...</td>\n",
              "      <td>0</td>\n",
              "    </tr>\n",
              "    <tr>\n",
              "      <th>7582</th>\n",
              "      <td>10834</td>\n",
              "      <td>wrecked</td>\n",
              "      <td>NaN</td>\n",
              "      <td>cramer: iger's 3 words wrecked disney's stock ...</td>\n",
              "      <td>0</td>\n",
              "    </tr>\n",
              "  </tbody>\n",
              "</table>\n",
              "<p>8585 rows × 5 columns</p>\n",
              "</div>\n",
              "      <button class=\"colab-df-convert\" onclick=\"convertToInteractive('df-904d2d89-1592-4131-85d3-34b9fe3b3b46')\"\n",
              "              title=\"Convert this dataframe to an interactive table.\"\n",
              "              style=\"display:none;\">\n",
              "        \n",
              "  <svg xmlns=\"http://www.w3.org/2000/svg\" height=\"24px\"viewBox=\"0 0 24 24\"\n",
              "       width=\"24px\">\n",
              "    <path d=\"M0 0h24v24H0V0z\" fill=\"none\"/>\n",
              "    <path d=\"M18.56 5.44l.94 2.06.94-2.06 2.06-.94-2.06-.94-.94-2.06-.94 2.06-2.06.94zm-11 1L8.5 8.5l.94-2.06 2.06-.94-2.06-.94L8.5 2.5l-.94 2.06-2.06.94zm10 10l.94 2.06.94-2.06 2.06-.94-2.06-.94-.94-2.06-.94 2.06-2.06.94z\"/><path d=\"M17.41 7.96l-1.37-1.37c-.4-.4-.92-.59-1.43-.59-.52 0-1.04.2-1.43.59L10.3 9.45l-7.72 7.72c-.78.78-.78 2.05 0 2.83L4 21.41c.39.39.9.59 1.41.59.51 0 1.02-.2 1.41-.59l7.78-7.78 2.81-2.81c.8-.78.8-2.07 0-2.86zM5.41 20L4 18.59l7.72-7.72 1.47 1.35L5.41 20z\"/>\n",
              "  </svg>\n",
              "      </button>\n",
              "      \n",
              "  <style>\n",
              "    .colab-df-container {\n",
              "      display:flex;\n",
              "      flex-wrap:wrap;\n",
              "      gap: 12px;\n",
              "    }\n",
              "\n",
              "    .colab-df-convert {\n",
              "      background-color: #E8F0FE;\n",
              "      border: none;\n",
              "      border-radius: 50%;\n",
              "      cursor: pointer;\n",
              "      display: none;\n",
              "      fill: #1967D2;\n",
              "      height: 32px;\n",
              "      padding: 0 0 0 0;\n",
              "      width: 32px;\n",
              "    }\n",
              "\n",
              "    .colab-df-convert:hover {\n",
              "      background-color: #E2EBFA;\n",
              "      box-shadow: 0px 1px 2px rgba(60, 64, 67, 0.3), 0px 1px 3px 1px rgba(60, 64, 67, 0.15);\n",
              "      fill: #174EA6;\n",
              "    }\n",
              "\n",
              "    [theme=dark] .colab-df-convert {\n",
              "      background-color: #3B4455;\n",
              "      fill: #D2E3FC;\n",
              "    }\n",
              "\n",
              "    [theme=dark] .colab-df-convert:hover {\n",
              "      background-color: #434B5C;\n",
              "      box-shadow: 0px 1px 3px 1px rgba(0, 0, 0, 0.15);\n",
              "      filter: drop-shadow(0px 1px 2px rgba(0, 0, 0, 0.3));\n",
              "      fill: #FFFFFF;\n",
              "    }\n",
              "  </style>\n",
              "\n",
              "      <script>\n",
              "        const buttonEl =\n",
              "          document.querySelector('#df-904d2d89-1592-4131-85d3-34b9fe3b3b46 button.colab-df-convert');\n",
              "        buttonEl.style.display =\n",
              "          google.colab.kernel.accessAllowed ? 'block' : 'none';\n",
              "\n",
              "        async function convertToInteractive(key) {\n",
              "          const element = document.querySelector('#df-904d2d89-1592-4131-85d3-34b9fe3b3b46');\n",
              "          const dataTable =\n",
              "            await google.colab.kernel.invokeFunction('convertToInteractive',\n",
              "                                                     [key], {});\n",
              "          if (!dataTable) return;\n",
              "\n",
              "          const docLinkHtml = 'Like what you see? Visit the ' +\n",
              "            '<a target=\"_blank\" href=https://colab.research.google.com/notebooks/data_table.ipynb>data table notebook</a>'\n",
              "            + ' to learn more about interactive tables.';\n",
              "          element.innerHTML = '';\n",
              "          dataTable['output_type'] = 'display_data';\n",
              "          await google.colab.output.renderOutput(dataTable, element);\n",
              "          const docLink = document.createElement('div');\n",
              "          docLink.innerHTML = docLinkHtml;\n",
              "          element.appendChild(docLink);\n",
              "        }\n",
              "      </script>\n",
              "    </div>\n",
              "  </div>\n",
              "  "
            ]
          },
          "metadata": {},
          "execution_count": 45
        }
      ]
    },
    {
      "cell_type": "code",
      "source": [
        "!pip install word2vec"
      ],
      "metadata": {
        "colab": {
          "base_uri": "https://localhost:8080/"
        },
        "id": "ZIfdBRuKVRJH",
        "outputId": "7e2b121b-7b07-48b0-d76e-5e4d47a473e8"
      },
      "execution_count": null,
      "outputs": [
        {
          "output_type": "stream",
          "name": "stdout",
          "text": [
            "Looking in indexes: https://pypi.org/simple, https://us-python.pkg.dev/colab-wheels/public/simple/\n",
            "Collecting word2vec\n",
            "  Downloading word2vec-0.11.1.tar.gz (42 kB)\n",
            "\u001b[K     |████████████████████████████████| 42 kB 750 kB/s \n",
            "\u001b[?25h  Installing build dependencies ... \u001b[?25l\u001b[?25hdone\n",
            "  Getting requirements to build wheel ... \u001b[?25l\u001b[?25hdone\n",
            "    Preparing wheel metadata ... \u001b[?25l\u001b[?25hdone\n",
            "Requirement already satisfied: joblib in /usr/local/lib/python3.8/dist-packages (from word2vec) (1.2.0)\n",
            "Requirement already satisfied: numpy>=1.9.2 in /usr/local/lib/python3.8/dist-packages (from word2vec) (1.21.6)\n",
            "Building wheels for collected packages: word2vec\n",
            "  Building wheel for word2vec (PEP 517) ... \u001b[?25l\u001b[?25hdone\n",
            "  Created wheel for word2vec: filename=word2vec-0.11.1-py2.py3-none-any.whl size=156432 sha256=6bedfa0581cbb3b48dbba8522e2c066618c1ff5b772db52ad70829d886e4d3da\n",
            "  Stored in directory: /root/.cache/pip/wheels/d9/b0/11/87d7a6c76458790285839bd80e87ddc52dc4108f0063f24307\n",
            "Successfully built word2vec\n",
            "Installing collected packages: word2vec\n",
            "Successfully installed word2vec-0.11.1\n"
          ]
        }
      ]
    },
    {
      "cell_type": "code",
      "source": [
        "import gensim.models.keyedvectors as word2vec\n",
        "w2vModel = word2vec.KeyedVectors.load_word2vec_format('/content/drive/MyDrive/GoogleNews-vectors-negative300.bin', binary=True, limit=50000)"
      ],
      "metadata": {
        "id": "va4MA-peVtrU"
      },
      "execution_count": null,
      "outputs": []
    },
    {
      "cell_type": "code",
      "source": [
        "w2vModel.most_similar('cyclone',topn=5)"
      ],
      "metadata": {
        "colab": {
          "base_uri": "https://localhost:8080/"
        },
        "id": "2D3pNt3NDhjY",
        "outputId": "e5d056d6-145e-4f4f-e2ce-2a7f05fa2087"
      },
      "execution_count": null,
      "outputs": [
        {
          "output_type": "execute_result",
          "data": {
            "text/plain": [
              "[('typhoon', 0.6971927881240845),\n",
              " ('hurricane', 0.6483842134475708),\n",
              " ('tropical_storm', 0.6254907846450806),\n",
              " ('storm', 0.6225177049636841),\n",
              " ('tsunami', 0.592627227306366)]"
            ]
          },
          "metadata": {},
          "execution_count": 48
        }
      ]
    },
    {
      "cell_type": "code",
      "source": [
        "from keras.preprocessing.text import Tokenizer\n",
        "from tensorflow.keras.preprocessing.sequence import pad_sequences\n",
        "tokenizer = Tokenizer()\n",
        "tokenizer.fit_on_texts(X)\n",
        "X = tokenizer.texts_to_sequences(X)  "
      ],
      "metadata": {
        "id": "kwvJwuAGNVvp"
      },
      "execution_count": null,
      "outputs": []
    },
    {
      "cell_type": "code",
      "source": [
        "import pickle\n",
        "with open('tokenizer.pickle', 'wb') as handle:\n",
        "    pickle.dump(tokenizer, handle, protocol = pickle.HIGHEST_PROTOCOL)"
      ],
      "metadata": {
        "id": "WTZZbgbC24P3"
      },
      "execution_count": null,
      "outputs": []
    },
    {
      "cell_type": "code",
      "source": [
        "#length of tweet to consider\n",
        "maxlentweet = 30\n",
        "#add padding\n",
        "X = pad_sequences(X, maxlen=maxlentweet)"
      ],
      "metadata": {
        "id": "vieJQTWvP4rF"
      },
      "execution_count": null,
      "outputs": []
    },
    {
      "cell_type": "code",
      "source": [
        "from keras.layers import Embedding\n",
        "embedding_layer = Embedding(input_dim=w2vModel.syn0.shape[0], output_dim=w2vModel.syn0.shape[1], weights=[w2vModel.syn0], \n",
        "                            input_length=X.shape[1])"
      ],
      "metadata": {
        "id": "PXE5on3pQAX2"
      },
      "execution_count": null,
      "outputs": []
    },
    {
      "cell_type": "code",
      "source": [
        "# first layer is a word embedding layer followed LSTM model\n",
        "from keras.models import Sequential\n",
        "from keras.layers import LSTM, Conv1D, Dense, Flatten, GlobalMaxPool1D, Dropout, BatchNormalization\n",
        "lstm_model = Sequential()\n",
        "lstm_model.add(embedding_layer)\n",
        "lstm_model.add(Dropout(0.2))\n",
        "lstm_model.add(LSTM(200, dropout = 0.2))\n",
        "lstm_model.add(Dense(64, activation='relu'))\n",
        "lstm_model.add(Dense(1, activation = \"sigmoid\"))"
      ],
      "metadata": {
        "id": "TplBEZ7yOoQn"
      },
      "execution_count": null,
      "outputs": []
    },
    {
      "cell_type": "code",
      "source": [
        "from sklearn.model_selection import train_test_split\n",
        "X_train, X_test, Y_train, Y_test = train_test_split(X, y, test_size= 0.1, random_state = 42)"
      ],
      "metadata": {
        "id": "6FA7MvgPydl8"
      },
      "execution_count": null,
      "outputs": []
    },
    {
      "cell_type": "code",
      "source": [
        "X_train"
      ],
      "metadata": {
        "colab": {
          "base_uri": "https://localhost:8080/"
        },
        "id": "QyP1BBz9xLdr",
        "outputId": "77ad6b5d-cd9a-49cc-aebd-3e7607fc1688"
      },
      "execution_count": null,
      "outputs": [
        {
          "output_type": "execute_result",
          "data": {
            "text/plain": [
              "array([[    0,     0,     0, ...,     1,     2,  3522],\n",
              "       [    0,     0,     0, ...,   292,   145,   292],\n",
              "       [    0,     0,     0, ...,     1,     2,  6923],\n",
              "       ...,\n",
              "       [    0,     0,     0, ...,     1,     2, 11364],\n",
              "       [    0,     0,     0, ...,     2,  3428,   239],\n",
              "       [    0,     0,     0, ...,  5867,     5, 15692]], dtype=int32)"
            ]
          },
          "metadata": {},
          "execution_count": 55
        }
      ]
    },
    {
      "cell_type": "code",
      "source": [
        "Y_train"
      ],
      "metadata": {
        "colab": {
          "base_uri": "https://localhost:8080/"
        },
        "id": "0XBHTYw0xO90",
        "outputId": "c60bf982-78ef-4063-83cd-5716499140f8"
      },
      "execution_count": null,
      "outputs": [
        {
          "output_type": "execute_result",
          "data": {
            "text/plain": [
              "array([1, 0, 0, ..., 0, 1, 0])"
            ]
          },
          "metadata": {},
          "execution_count": 57
        }
      ]
    },
    {
      "cell_type": "code",
      "source": [
        "# Creating the model and getting the model summary\n",
        "BATCH_SIZE = 20\n",
        "EPOCHS = 5\n",
        "\n",
        "lstm_model.compile(optimizer = \"adam\", loss = 'binary_crossentropy', metrics = ['accuracy'])\n",
        "\n",
        "# train model\n",
        "history = lstm_model.fit(X_train, Y_train, batch_size = BATCH_SIZE, epochs = EPOCHS,\n",
        "                    validation_data=(X_test, Y_test), verbose = 1)"
      ],
      "metadata": {
        "colab": {
          "base_uri": "https://localhost:8080/"
        },
        "id": "xqEGTjR8QAUk",
        "outputId": "3e9cd4c2-27eb-4381-cc0d-84c79000b135"
      },
      "execution_count": null,
      "outputs": [
        {
          "output_type": "stream",
          "name": "stdout",
          "text": [
            "Epoch 1/5\n",
            "391/391 [==============================] - 136s 338ms/step - loss: 0.4075 - accuracy: 0.8091 - val_loss: 0.2160 - val_accuracy: 0.9229\n",
            "Epoch 2/5\n",
            "391/391 [==============================] - 124s 317ms/step - loss: 0.1367 - accuracy: 0.9505 - val_loss: 0.1660 - val_accuracy: 0.9505\n",
            "Epoch 3/5\n",
            "391/391 [==============================] - 124s 318ms/step - loss: 0.0446 - accuracy: 0.9859 - val_loss: 0.2189 - val_accuracy: 0.9505\n",
            "Epoch 4/5\n",
            "391/391 [==============================] - 123s 314ms/step - loss: 0.0233 - accuracy: 0.9923 - val_loss: 0.2044 - val_accuracy: 0.9551\n",
            "Epoch 5/5\n",
            "391/391 [==============================] - 125s 320ms/step - loss: 0.0160 - accuracy: 0.9942 - val_loss: 0.2810 - val_accuracy: 0.9264\n"
          ]
        }
      ]
    },
    {
      "cell_type": "code",
      "source": [
        "# evaluate model\n",
        "score = lstm_model.evaluate(X_test, Y_test, batch_size = BATCH_SIZE)\n",
        "print(\"Test loss:\", score[0])\n",
        "print(\"Test accuracy:\", score[1])"
      ],
      "metadata": {
        "colab": {
          "base_uri": "https://localhost:8080/"
        },
        "id": "OlPYC049QIhb",
        "outputId": "364c22b5-5eaf-47fb-d1d9-5cbcb785ff99"
      },
      "execution_count": null,
      "outputs": [
        {
          "output_type": "stream",
          "name": "stdout",
          "text": [
            "44/44 [==============================] - 1s 25ms/step - loss: 0.2810 - accuracy: 0.9264\n",
            "Test loss: 0.2810155749320984\n",
            "Test accuracy: 0.9263521432876587\n"
          ]
        }
      ]
    },
    {
      "cell_type": "code",
      "source": [
        "# save model\n",
        "lstm_model.save('/content/drive/MyDrive/database/lstm_model')"
      ],
      "metadata": {
        "colab": {
          "base_uri": "https://localhost:8080/"
        },
        "id": "nO-FiXEd1zcS",
        "outputId": "3ef18e8c-0233-4922-8e4e-2343dc91fbfe"
      },
      "execution_count": null,
      "outputs": [
        {
          "output_type": "stream",
          "name": "stderr",
          "text": [
            "WARNING:absl:Found untraced functions such as lstm_cell_layer_call_fn, lstm_cell_layer_call_and_return_conditional_losses while saving (showing 2 of 2). These functions will not be directly callable after loading.\n"
          ]
        }
      ]
    },
    {
      "cell_type": "code",
      "source": [
        "from sklearn.metrics import classification_report\n",
        "from sklearn import metrics\n",
        "predicted = lstm_model.predict(X_test, verbose=1, batch_size=100)\n",
        "\n",
        "y_predicted = [1 if each > 0.5 else 0 for each in predicted]\n",
        "\n",
        "score, test_accuracy = lstm_model.evaluate(X_test, Y_test, batch_size=100)\n",
        "\n",
        "print(\"Test Accuracy: \", test_accuracy)\n",
        "print(metrics.classification_report(list(Y_test), y_predicted))"
      ],
      "metadata": {
        "colab": {
          "base_uri": "https://localhost:8080/"
        },
        "id": "65D8gVyQ-2Yx",
        "outputId": "486b4c2e-73d7-44b7-def4-0657caec8c7c"
      },
      "execution_count": null,
      "outputs": [
        {
          "output_type": "stream",
          "name": "stdout",
          "text": [
            "9/9 [==============================] - 3s 88ms/step\n",
            "9/9 [==============================] - 1s 91ms/step - loss: 0.2810 - accuracy: 0.9264\n",
            "Test Accuracy:  0.9263521432876587\n",
            "              precision    recall  f1-score   support\n",
            "\n",
            "           0       0.96      0.89      0.92       437\n",
            "           1       0.90      0.96      0.93       432\n",
            "\n",
            "    accuracy                           0.93       869\n",
            "   macro avg       0.93      0.93      0.93       869\n",
            "weighted avg       0.93      0.93      0.93       869\n",
            "\n"
          ]
        }
      ]
    },
    {
      "cell_type": "code",
      "source": [
        "lstm_pred=(lstm_model.predict(X_test) > 0.5).astype(\"int32\")"
      ],
      "metadata": {
        "colab": {
          "base_uri": "https://localhost:8080/"
        },
        "id": "JIs2Hqj4PUEX",
        "outputId": "f13da5e4-0532-449f-c586-f9e689f6e4b8"
      },
      "execution_count": null,
      "outputs": [
        {
          "output_type": "stream",
          "name": "stdout",
          "text": [
            "28/28 [==============================] - 1s 46ms/step\n"
          ]
        }
      ]
    },
    {
      "cell_type": "code",
      "source": [
        "print('predicted:', lstm_pred[0:5])\n",
        "print('test set :', Y_test[0:5])"
      ],
      "metadata": {
        "colab": {
          "base_uri": "https://localhost:8080/"
        },
        "id": "c4Dv97-2ocTn",
        "outputId": "e7cda4a4-3cf6-4fb9-c89c-7c2590c2bae6"
      },
      "execution_count": null,
      "outputs": [
        {
          "output_type": "stream",
          "name": "stdout",
          "text": [
            "predicted: [[1]\n",
            " [1]\n",
            " [1]\n",
            " [1]\n",
            " [1]]\n",
            "test set : [1 1 1 1 1]\n"
          ]
        }
      ]
    },
    {
      "cell_type": "code",
      "source": [
        "def clean_text(text):\n",
        "    text_cleaning_re = \"@\\S+|https?:\\S+|http?:\\S|[^A-Za-z0-9]+\"\n",
        "    text = re.sub(text_cleaning_re, ' ', str(text).lower()).strip()\n",
        "    stop_words = set(stopwords.words('english'))\n",
        "    word = [word for word in text.split() if word not in (stop_words)]\n",
        "    return \" \".join(word)\n",
        "\n",
        "from keras.models import load_model\n",
        "# decode score prediction from the model, to be 0 or 1\n",
        "def decode_prediction(prediction):\n",
        "    return 'Relevent' if prediction > 0.5 else 'Non-relevant'\n",
        "\n",
        "# load model\n",
        "model = load_model('/content/drive/MyDrive/database/lstm_model')\n",
        "# loading tokenizer\n",
        "with open('tokenizer.pickle', 'rb') as handle:\n",
        "    tokenizer = pickle.load(handle)\n",
        "\n",
        "# test model with a new query\n",
        "#tweet = \"how are you\"\n",
        "tweet = 'there is a typhoon and this is bad'\n",
        "\n",
        "# clean query text\n",
        "input_text = clean_text(tweet)\n",
        "# tokenize and pad query test as in training\n",
        "input_text = pad_sequences(tokenizer.texts_to_sequences([input_text]),\n",
        "                        maxlen = 30)\n",
        "\n",
        "# get model prediction\n",
        "prediction = model.predict([input_text])[0]\n",
        "# get decode prediction\n",
        "label = decode_prediction(prediction)\n",
        "\n",
        "print(\"Tweet: \\n\\n{}\\n\".format(tweet))\n",
        "print(\"Score: {} Label: {}\".format(prediction, label))"
      ],
      "metadata": {
        "colab": {
          "base_uri": "https://localhost:8080/"
        },
        "id": "SmhT-3pi2BUd",
        "outputId": "0af5d212-8d2e-4692-e6be-0c96673256ae"
      },
      "execution_count": null,
      "outputs": [
        {
          "output_type": "stream",
          "name": "stdout",
          "text": [
            "1/1 [==============================] - 0s 432ms/step\n",
            "Tweet: \n",
            "\n",
            "there is a typhoon and this is bad\n",
            "\n",
            "Score: [0.9577084] Label: Relevent\n"
          ]
        }
      ]
    },
    {
      "cell_type": "code",
      "source": [],
      "metadata": {
        "id": "_nIAYus3ez08"
      },
      "execution_count": null,
      "outputs": []
    },
    {
      "cell_type": "markdown",
      "source": [
        "##CNN"
      ],
      "metadata": {
        "id": "SLcqeYEiQaSg"
      }
    },
    {
      "cell_type": "code",
      "source": [
        " from keras import layers \n",
        " cnnmodel = Sequential()\n",
        " cnnmodel.add(embedding_layer)\n",
        " cnnmodel.add(layers.Conv1D(filters=16, kernel_size= 2, activation='relu'))\n",
        " cnnmodel.add(layers.GlobalMaxPooling1D())\n",
        " cnnmodel.add(layers.Dense(10, activation='relu'))\n",
        " cnnmodel.add(layers.Dense(1, activation='sigmoid'))\n",
        " cnnmodel.compile(optimizer='adam',\n",
        "               loss='binary_crossentropy',\n",
        "               metrics=['accuracy'])\n",
        " cnnmodel.summary() "
      ],
      "metadata": {
        "id": "cfrqV2vxQ_O7",
        "colab": {
          "base_uri": "https://localhost:8080/"
        },
        "outputId": "e071e425-0d1a-4f8c-984a-f9f63a1e8cba"
      },
      "execution_count": null,
      "outputs": [
        {
          "output_type": "stream",
          "name": "stdout",
          "text": [
            "Model: \"sequential_1\"\n",
            "_________________________________________________________________\n",
            " Layer (type)                Output Shape              Param #   \n",
            "=================================================================\n",
            " embedding (Embedding)       (None, 30, 300)           15000000  \n",
            "                                                                 \n",
            " conv1d (Conv1D)             (None, 29, 16)            9616      \n",
            "                                                                 \n",
            " global_max_pooling1d (Globa  (None, 16)               0         \n",
            " lMaxPooling1D)                                                  \n",
            "                                                                 \n",
            " dense_2 (Dense)             (None, 10)                170       \n",
            "                                                                 \n",
            " dense_3 (Dense)             (None, 1)                 11        \n",
            "                                                                 \n",
            "=================================================================\n",
            "Total params: 15,009,797\n",
            "Trainable params: 15,009,797\n",
            "Non-trainable params: 0\n",
            "_________________________________________________________________\n"
          ]
        }
      ]
    },
    {
      "cell_type": "code",
      "source": [
        "cnnmodel.fit(X_train, Y_train,\n",
        "                     epochs=1,\n",
        "                     verbose=False,\n",
        "                     validation_data=(X_test, Y_test),\n",
        "                     batch_size=10)"
      ],
      "metadata": {
        "colab": {
          "base_uri": "https://localhost:8080/"
        },
        "id": "uWsJpH0yTDWN",
        "outputId": "83b2d585-359f-4f17-e8ca-686f5735eb66"
      },
      "execution_count": null,
      "outputs": [
        {
          "output_type": "execute_result",
          "data": {
            "text/plain": [
              "<keras.callbacks.History at 0x7f969a84e190>"
            ]
          },
          "metadata": {},
          "execution_count": 70
        }
      ]
    },
    {
      "cell_type": "code",
      "source": [
        "loss, accuracy = cnnmodel.evaluate(X_test, Y_test, verbose=False)\n",
        "print(\"Testing Accuracy:  {:.4f}\".format(accuracy)) "
      ],
      "metadata": {
        "colab": {
          "base_uri": "https://localhost:8080/"
        },
        "id": "tE7xhCvRuFzn",
        "outputId": "42fd7dec-9ca6-4cca-a037-980e7d650c65"
      },
      "execution_count": null,
      "outputs": [
        {
          "output_type": "stream",
          "name": "stdout",
          "text": [
            "Testing Accuracy:  0.9241\n"
          ]
        }
      ]
    },
    {
      "cell_type": "code",
      "source": [
        "preds_cnn = (cnnmodel.predict(X_test) > 0.5).astype(\"int32\")"
      ],
      "metadata": {
        "colab": {
          "base_uri": "https://localhost:8080/"
        },
        "id": "dv-hUhM_RNCu",
        "outputId": "5fe75c79-d1bc-4abd-e796-892a5d0dc859"
      },
      "execution_count": null,
      "outputs": [
        {
          "output_type": "stream",
          "name": "stdout",
          "text": [
            "28/28 [==============================] - 0s 9ms/step\n"
          ]
        }
      ]
    },
    {
      "cell_type": "code",
      "source": [
        "print('predicted:', preds_cnn[0:5])\n",
        "print('test set :', Y_test[0:5])"
      ],
      "metadata": {
        "colab": {
          "base_uri": "https://localhost:8080/"
        },
        "id": "LYTCHCARRWbx",
        "outputId": "377d4893-1881-469c-e786-e32bff9e9847"
      },
      "execution_count": null,
      "outputs": [
        {
          "output_type": "stream",
          "name": "stdout",
          "text": [
            "predicted: [[1]\n",
            " [1]\n",
            " [1]\n",
            " [1]\n",
            " [1]]\n",
            "test set : [1 1 1 1 1]\n"
          ]
        }
      ]
    },
    {
      "cell_type": "code",
      "source": [
        "model.save('/content/drive/MyDrive/database/cnnmodel')"
      ],
      "metadata": {
        "colab": {
          "base_uri": "https://localhost:8080/"
        },
        "id": "_YxI0JhfkDYp",
        "outputId": "d53c35ad-ba79-4f2f-c78f-353b040cfb98"
      },
      "execution_count": null,
      "outputs": [
        {
          "output_type": "stream",
          "name": "stderr",
          "text": [
            "WARNING:absl:Found untraced functions such as lstm_cell_2_layer_call_fn, lstm_cell_2_layer_call_and_return_conditional_losses while saving (showing 2 of 2). These functions will not be directly callable after loading.\n"
          ]
        }
      ]
    },
    {
      "cell_type": "code",
      "source": [
        "from sklearn.metrics import classification_report\n",
        "from sklearn import metrics\n",
        "predicted = cnnmodel.predict(X_test, verbose=1, batch_size=100)\n",
        "\n",
        "y_predicted = [1 if each > 0.5 else 0 for each in predicted]\n",
        "\n",
        "score, test_accuracy = cnnmodel.evaluate(X_test, Y_test, batch_size=100)\n",
        "print(metrics.classification_report(list(Y_test), y_predicted))"
      ],
      "metadata": {
        "colab": {
          "base_uri": "https://localhost:8080/"
        },
        "id": "4U7qDV9SuXqQ",
        "outputId": "39c19800-651d-476e-f9db-8abcbea089d2"
      },
      "execution_count": null,
      "outputs": [
        {
          "output_type": "stream",
          "name": "stdout",
          "text": [
            "9/9 [==============================] - 0s 7ms/step\n",
            "9/9 [==============================] - 0s 8ms/step - loss: 0.1970 - accuracy: 0.9241\n",
            "              precision    recall  f1-score   support\n",
            "\n",
            "           0       0.96      0.89      0.92       437\n",
            "           1       0.89      0.96      0.93       432\n",
            "\n",
            "    accuracy                           0.92       869\n",
            "   macro avg       0.93      0.92      0.92       869\n",
            "weighted avg       0.93      0.92      0.92       869\n",
            "\n"
          ]
        }
      ]
    },
    {
      "cell_type": "code",
      "source": [
        " cnnmodel2 = Sequential()\n",
        " cnnmodel2.add(embedding_layer)\n",
        " cnnmodel2.add(layers.Conv1D(filters = 16, kernel_size =2, activation='relu'))\n",
        " cnnmodel2.add(layers.GlobalMaxPooling1D())\n",
        " cnnmodel2.add(layers.Dense(10, activation='relu'))\n",
        " cnnmodel2.add(layers.Dense(1, activation='sigmoid'))\n",
        " cnnmodel2.compile(optimizer='adagrad',\n",
        "               loss='binary_crossentropy',\n",
        "               metrics=['accuracy'])\n",
        " cnnmodel2.summary() "
      ],
      "metadata": {
        "colab": {
          "base_uri": "https://localhost:8080/"
        },
        "id": "QsyY8NciT40l",
        "outputId": "e57ff3ad-5ce2-4ba7-de95-f7605d7d8b37"
      },
      "execution_count": null,
      "outputs": [
        {
          "output_type": "stream",
          "name": "stdout",
          "text": [
            "Model: \"sequential_2\"\n",
            "_________________________________________________________________\n",
            " Layer (type)                Output Shape              Param #   \n",
            "=================================================================\n",
            " embedding (Embedding)       (None, 30, 300)           15000000  \n",
            "                                                                 \n",
            " conv1d_1 (Conv1D)           (None, 29, 16)            9616      \n",
            "                                                                 \n",
            " global_max_pooling1d_1 (Glo  (None, 16)               0         \n",
            " balMaxPooling1D)                                                \n",
            "                                                                 \n",
            " dense_4 (Dense)             (None, 10)                170       \n",
            "                                                                 \n",
            " dense_5 (Dense)             (None, 1)                 11        \n",
            "                                                                 \n",
            "=================================================================\n",
            "Total params: 15,009,797\n",
            "Trainable params: 15,009,797\n",
            "Non-trainable params: 0\n",
            "_________________________________________________________________\n"
          ]
        }
      ]
    },
    {
      "cell_type": "code",
      "source": [
        "cnnmodel2.fit(X_train, Y_train,\n",
        "                     epochs=2,\n",
        "                     verbose=False,\n",
        "                     validation_data=(X_test, Y_test),\n",
        "                     batch_size=50)"
      ],
      "metadata": {
        "colab": {
          "base_uri": "https://localhost:8080/"
        },
        "id": "Ea3n2i4xUCXi",
        "outputId": "1e779081-fdbf-4af4-bc0c-baf491d1f9be"
      },
      "execution_count": null,
      "outputs": [
        {
          "output_type": "execute_result",
          "data": {
            "text/plain": [
              "<keras.callbacks.History at 0x7f969a205250>"
            ]
          },
          "metadata": {},
          "execution_count": 75
        }
      ]
    },
    {
      "cell_type": "code",
      "source": [
        "loss, accuracy = cnnmodel2.evaluate(X_test, Y_test, verbose=False)\n",
        "print(\"Testing Accuracy:  {:.4f}\".format(accuracy)) "
      ],
      "metadata": {
        "colab": {
          "base_uri": "https://localhost:8080/"
        },
        "id": "1M5ynCnet_Ue",
        "outputId": "b5365806-4d50-4fc0-c8d1-cb46f8c8ef31"
      },
      "execution_count": null,
      "outputs": [
        {
          "output_type": "stream",
          "name": "stdout",
          "text": [
            "Testing Accuracy:  0.5662\n"
          ]
        }
      ]
    },
    {
      "cell_type": "code",
      "source": [
        "model.save('/content/drive/MyDrive/database/cnnmodel2')"
      ],
      "metadata": {
        "colab": {
          "base_uri": "https://localhost:8080/"
        },
        "id": "KsEKP1f0QSyR",
        "outputId": "aa275ac3-9e5f-45c5-b97b-fd15cf0e3d4a"
      },
      "execution_count": null,
      "outputs": [
        {
          "output_type": "stream",
          "name": "stderr",
          "text": [
            "WARNING:absl:Found untraced functions such as lstm_cell_2_layer_call_fn, lstm_cell_2_layer_call_and_return_conditional_losses while saving (showing 2 of 2). These functions will not be directly callable after loading.\n"
          ]
        }
      ]
    },
    {
      "cell_type": "code",
      "source": [
        "from sklearn.metrics import classification_report\n",
        "from sklearn import metrics\n",
        "predicted = cnnmodel2.predict(X_test, verbose=1, batch_size=100)\n",
        "\n",
        "y_predicted = [1 if each > 0.5 else 0 for each in predicted]\n",
        "\n",
        "score, test_accuracy = cnnmodel2.evaluate(X_test, Y_test, batch_size=100)\n",
        "print(metrics.classification_report(list(Y_test), y_predicted))"
      ],
      "metadata": {
        "colab": {
          "base_uri": "https://localhost:8080/"
        },
        "id": "sHQbbFqCugya",
        "outputId": "6bdbbfc9-c39f-43b0-d8e0-b2938b85af22"
      },
      "execution_count": null,
      "outputs": [
        {
          "output_type": "stream",
          "name": "stdout",
          "text": [
            "9/9 [==============================] - 0s 11ms/step\n",
            "9/9 [==============================] - 0s 11ms/step - loss: 0.6650 - accuracy: 0.5489\n",
            "              precision    recall  f1-score   support\n",
            "\n",
            "           0       0.89      0.12      0.21       437\n",
            "           1       0.52      0.99      0.68       432\n",
            "\n",
            "    accuracy                           0.55       869\n",
            "   macro avg       0.71      0.55      0.45       869\n",
            "weighted avg       0.71      0.55      0.44       869\n",
            "\n"
          ]
        }
      ]
    },
    {
      "cell_type": "code",
      "source": [
        "def clean_text(text):\n",
        "    text_cleaning_re = \"@\\S+|https?:\\S+|http?:\\S|[^A-Za-z0-9]+\"\n",
        "    text = re.sub(text_cleaning_re, ' ', str(text).lower()).strip()\n",
        "    tokens = text.split()\n",
        "    stop_words = set(stopwords.words('english'))\n",
        "    tokens = [w for w in tokens if w not in stop_words]\n",
        "    \n",
        "    return \" \".join(tokens)\n",
        "\n",
        "from keras.models import load_model\n",
        "# decode score prediction from the model, to be 0 or 1\n",
        "def decode_prediction(prediction):\n",
        "    return 'Relevent' if prediction > 0.5 else 'Non-relevant'\n",
        "\n",
        "# load model\n",
        "model = load_model('/content/drive/MyDrive/database/cnnmodel2')\n",
        "# loading tokenizer\n",
        "with open('tokenizer.pickle', 'rb') as handle:\n",
        "    tokenizer = pickle.load(handle)\n",
        "\n",
        "# test model with a new query\n",
        "#tweet = \"Typhoon Soudelor kills 28 in China and Taiwan\"\n",
        "tweet = 'hellooo'\n",
        "\n",
        "# clean query text\n",
        "input_text = clean_text(tweet)\n",
        "# tokenize and pad query test as in training\n",
        "input_text = pad_sequences(tokenizer.texts_to_sequences([input_text]),\n",
        "                        maxlen = 30)\n",
        "\n",
        "# get model prediction\n",
        "prediction = cnnmodel.predict([input_text])[0]\n",
        "# get decode prediction\n",
        "label = decode_prediction(prediction)\n",
        "\n",
        "print(\"Tweet: \\n\\n{}\\n\".format(tweet))\n",
        "print(\"Score: {} Label: {}\".format(prediction, label))"
      ],
      "metadata": {
        "colab": {
          "base_uri": "https://localhost:8080/"
        },
        "id": "OboDPzYZu-cI",
        "outputId": "d6753218-2e53-4de0-be5a-a04e8a3e1c0c"
      },
      "execution_count": null,
      "outputs": [
        {
          "output_type": "stream",
          "name": "stdout",
          "text": [
            "1/1 [==============================] - 0s 22ms/step\n",
            "Tweet: \n",
            "\n",
            "hellooo\n",
            "\n",
            "Score: [0.3203251] Label: Non-relevant\n"
          ]
        }
      ]
    },
    {
      "cell_type": "code",
      "source": [
        "def clean_text(text):\n",
        "    text_cleaning_re = \"@\\S+|https?:\\S+|http?:\\S|[^A-Za-z0-9]+\"\n",
        "    text = re.sub(text_cleaning_re, ' ', str(text).lower()).strip()\n",
        "    tokens = text.split()\n",
        "    stop_words = set(stopwords.words('english'))\n",
        "    tokens = [w for w in tokens if w not in stop_words]\n",
        "    \n",
        "    return \" \".join(tokens)\n",
        "\n",
        "from keras.models import load_model\n",
        "# decode score prediction from the model, to be 0 or 1\n",
        "def decode_prediction(prediction):\n",
        "    return 'Relevent' if prediction > 0.5 else 'Non-relevant'\n",
        "\n",
        "# load model\n",
        "model = load_model('/content/drive/MyDrive/database/cnnmodel')\n",
        "# loading tokenizer\n",
        "with open('tokenizer.pickle', 'rb') as handle:\n",
        "    tokenizer = pickle.load(handle)\n",
        "\n",
        "# test model with a new query\n",
        "#tweet = \"We are still living in the aftershock of Hiroshima people are still the scars of history\"\n",
        "tweet = 'earthquake here'\n",
        "\n",
        "# clean query text\n",
        "input_text = clean_text(tweet)\n",
        "# tokenize and pad query test as in training\n",
        "input_text = pad_sequences(tokenizer.texts_to_sequences([input_text]),\n",
        "                        maxlen = 30)\n",
        "\n",
        "# get model prediction\n",
        "prediction = cnnmodel2.predict([input_text])[0]\n",
        "# get decode prediction\n",
        "label = decode_prediction(prediction)\n",
        "\n",
        "print(\"Tweet: \\n\\n{}\\n\".format(tweet))\n",
        "print(\"Score: {} Label: {}\".format(prediction, label))"
      ],
      "metadata": {
        "colab": {
          "base_uri": "https://localhost:8080/"
        },
        "id": "mHaFmFk-QOwG",
        "outputId": "f04edc75-b2f5-4043-fe0c-9d081ec198dd"
      },
      "execution_count": null,
      "outputs": [
        {
          "output_type": "stream",
          "name": "stdout",
          "text": [
            "1/1 [==============================] - 0s 26ms/step\n",
            "Tweet: \n",
            "\n",
            "earthquake here\n",
            "\n",
            "Score: [0.5019961] Label: Relevent\n"
          ]
        }
      ]
    },
    {
      "cell_type": "markdown",
      "source": [
        "##RNN"
      ],
      "metadata": {
        "id": "BjmmPMlUeeqq"
      }
    },
    {
      "cell_type": "code",
      "source": [
        "# define the model\n",
        "from tensorflow.keras.layers import SimpleRNN\n",
        "model4 = Sequential()\n",
        "model4.add(embedding_layer)\n",
        "model4.add(SimpleRNN(24,return_sequences=False))\n",
        "model4.add(Dense(1, activation='sigmoid'))\n",
        "\n",
        "# compile the model\n",
        "model4.compile(optimizer='adam', loss='binary_crossentropy', metrics=['accuracy'])\n",
        "\n",
        "# summarize the model\n",
        "print(model4.summary())"
      ],
      "metadata": {
        "colab": {
          "base_uri": "https://localhost:8080/"
        },
        "id": "qYSlrIb0edyZ",
        "outputId": "395efb44-0854-4fca-f1f4-2e71e2bdcc12"
      },
      "execution_count": null,
      "outputs": [
        {
          "output_type": "stream",
          "name": "stdout",
          "text": [
            "Model: \"sequential_3\"\n",
            "_________________________________________________________________\n",
            " Layer (type)                Output Shape              Param #   \n",
            "=================================================================\n",
            " embedding (Embedding)       (None, 30, 300)           15000000  \n",
            "                                                                 \n",
            " simple_rnn (SimpleRNN)      (None, 24)                7800      \n",
            "                                                                 \n",
            " dense_6 (Dense)             (None, 1)                 25        \n",
            "                                                                 \n",
            "=================================================================\n",
            "Total params: 15,007,825\n",
            "Trainable params: 15,007,825\n",
            "Non-trainable params: 0\n",
            "_________________________________________________________________\n",
            "None\n"
          ]
        }
      ]
    },
    {
      "cell_type": "code",
      "source": [
        "# fit the model\n",
        "model4.fit(X_train,\n",
        "         Y_train,\n",
        "         epochs=7,\n",
        "         validation_data=(X_test, Y_test), verbose=1,\n",
        "         batch_size = 10\n",
        "         )"
      ],
      "metadata": {
        "colab": {
          "base_uri": "https://localhost:8080/"
        },
        "id": "yAQsovZHfmPl",
        "outputId": "2d4c34e3-1cf1-4eb5-d763-1a2013531716"
      },
      "execution_count": null,
      "outputs": [
        {
          "output_type": "stream",
          "name": "stdout",
          "text": [
            "Epoch 1/7\n",
            "782/782 [==============================] - 179s 225ms/step - loss: 0.1002 - accuracy: 0.9629 - val_loss: 0.1641 - val_accuracy: 0.9620\n",
            "Epoch 2/7\n",
            "782/782 [==============================] - 162s 207ms/step - loss: 0.0234 - accuracy: 0.9933 - val_loss: 0.2166 - val_accuracy: 0.9310\n",
            "Epoch 3/7\n",
            "782/782 [==============================] - 164s 210ms/step - loss: 0.0146 - accuracy: 0.9962 - val_loss: 0.2358 - val_accuracy: 0.9241\n",
            "Epoch 4/7\n",
            "782/782 [==============================] - 163s 208ms/step - loss: 0.0128 - accuracy: 0.9955 - val_loss: 0.2130 - val_accuracy: 0.9517\n",
            "Epoch 5/7\n",
            "782/782 [==============================] - 163s 208ms/step - loss: 0.0113 - accuracy: 0.9959 - val_loss: 0.2323 - val_accuracy: 0.9482\n",
            "Epoch 6/7\n",
            "782/782 [==============================] - 162s 208ms/step - loss: 0.0109 - accuracy: 0.9955 - val_loss: 0.3161 - val_accuracy: 0.8941\n",
            "Epoch 7/7\n",
            "782/782 [==============================] - 162s 207ms/step - loss: 0.0092 - accuracy: 0.9965 - val_loss: 0.2648 - val_accuracy: 0.9379\n"
          ]
        },
        {
          "output_type": "execute_result",
          "data": {
            "text/plain": [
              "<keras.callbacks.History at 0x7f969b5d3d90>"
            ]
          },
          "metadata": {},
          "execution_count": 85
        }
      ]
    },
    {
      "cell_type": "code",
      "source": [
        "preds = (model4.predict(X_test) > 0.5).astype(\"int32\")"
      ],
      "metadata": {
        "colab": {
          "base_uri": "https://localhost:8080/"
        },
        "id": "PH26CJmhjmL3",
        "outputId": "f2c4c444-a587-44de-915e-458e8bd82f26"
      },
      "execution_count": null,
      "outputs": [
        {
          "output_type": "stream",
          "name": "stdout",
          "text": [
            "28/28 [==============================] - 0s 7ms/step\n"
          ]
        }
      ]
    },
    {
      "cell_type": "code",
      "source": [
        "print('predicted:', preds[0:5])\n",
        "print('test set :', Y_test[0:5])"
      ],
      "metadata": {
        "colab": {
          "base_uri": "https://localhost:8080/"
        },
        "id": "WwPUu_piksB7",
        "outputId": "69430834-7b3a-46f5-abf5-4d2a05c2d646"
      },
      "execution_count": null,
      "outputs": [
        {
          "output_type": "stream",
          "name": "stdout",
          "text": [
            "predicted: [[1]\n",
            " [1]\n",
            " [1]\n",
            " [1]\n",
            " [1]]\n",
            "test set : [1 1 1 1 1]\n"
          ]
        }
      ]
    },
    {
      "cell_type": "code",
      "source": [
        "loss, accuracy = model4.evaluate(X_test, Y_test, verbose=False)\n",
        "print(\"Testing Accuracy:  {:.4f}\".format(accuracy)) "
      ],
      "metadata": {
        "colab": {
          "base_uri": "https://localhost:8080/"
        },
        "id": "t-z2xJrwjvCi",
        "outputId": "c002642a-5105-48d6-f317-09414525dd50"
      },
      "execution_count": null,
      "outputs": [
        {
          "output_type": "stream",
          "name": "stdout",
          "text": [
            "Testing Accuracy:  0.9379\n"
          ]
        }
      ]
    },
    {
      "cell_type": "code",
      "source": [
        "model.save(\"/content/drive/MyDrive/database/model4\")"
      ],
      "metadata": {
        "colab": {
          "base_uri": "https://localhost:8080/"
        },
        "id": "mfswZIZpkAWa",
        "outputId": "ac8fc4ce-f1e2-4b00-878d-35eb02a80170"
      },
      "execution_count": null,
      "outputs": [
        {
          "output_type": "stream",
          "name": "stderr",
          "text": [
            "WARNING:absl:Found untraced functions such as lstm_cell_6_layer_call_fn, lstm_cell_6_layer_call_and_return_conditional_losses while saving (showing 2 of 2). These functions will not be directly callable after loading.\n"
          ]
        }
      ]
    },
    {
      "cell_type": "code",
      "source": [
        "def clean_text(text):\n",
        "    text_cleaning_re = \"@\\S+|https?:\\S+|http?:\\S|[^A-Za-z0-9]+\"\n",
        "    text = re.sub(text_cleaning_re, ' ', str(text).lower()).strip()\n",
        "    \n",
        "    tokens = text.split()\n",
        "    stop_words = set(stopwords.words('english'))\n",
        "    tokens = [w for w in tokens if w not in stop_words]\n",
        "    \n",
        "    return \" \".join(tokens)\n",
        "\n",
        "from keras.models import load_model\n",
        "# decode score prediction from the model, to be 0 or 1\n",
        "def decode_prediction(prediction):\n",
        "    return 'Relevent' if prediction > 0.5 else 'Non-relevant'\n",
        "\n",
        "# load model\n",
        "model = load_model('/content/drive/MyDrive/database/model4')\n",
        "# loading tokenizer\n",
        "with open('tokenizer.pickle', 'rb') as handle:\n",
        "    tokenizer = pickle.load(handle)\n",
        "\n",
        "# test model with a new query\n",
        "#tweet = \"I'm on top of the hill and I can see a fire in the woods\"\n",
        "tweet = 'heyy how are you'\n",
        "\n",
        "# clean query text\n",
        "input_text = clean_text(tweet)\n",
        "# tokenize and pad query test as in training\n",
        "input_text = pad_sequences(tokenizer.texts_to_sequences([input_text]),\n",
        "                        maxlen = 30)\n",
        "\n",
        "# get model prediction\n",
        "prediction = model4.predict([input_text])[0]\n",
        "# get decode prediction\n",
        "label = decode_prediction(prediction)\n",
        "\n",
        "print(\"Tweet: \\n\\n{}\\n\".format(tweet))\n",
        "print(\"Score: {} Label: {}\".format(prediction, label))"
      ],
      "metadata": {
        "colab": {
          "base_uri": "https://localhost:8080/"
        },
        "id": "Id1RmumlkRBo",
        "outputId": "08418239-e620-4a8a-8942-e2518457c166"
      },
      "execution_count": null,
      "outputs": [
        {
          "output_type": "stream",
          "name": "stdout",
          "text": [
            "1/1 [==============================] - 0s 21ms/step\n",
            "Tweet: \n",
            "\n",
            "heyy how are you\n",
            "\n",
            "Score: [0.01455218] Label: Non-relevant\n"
          ]
        }
      ]
    }
  ]
}